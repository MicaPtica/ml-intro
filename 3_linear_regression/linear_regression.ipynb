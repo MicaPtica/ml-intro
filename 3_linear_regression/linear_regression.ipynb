{
 "cells": [
  {
   "cell_type": "markdown",
   "id": "4e5b6df5",
   "metadata": {},
   "source": [
    "## Linear regression\n",
    "\n",
    "This assignment is dedicated to Linear regression. 12 task, 30 points max.\n",
    "\n",
    "By focusing on predicting different features of football players,\n",
    "you will:\n",
    "* gain understanding of mathematics behind Linear Regression model\n",
    "* and become familiar with using `sklearn` library for solving this kind of tasks\n",
    "\n",
    "In the assignment we will:\n",
    "* build Linear regression models with 1 and many variables\n",
    "* use both library methods and manual calculations using mathematical formulas\n",
    "* implement main regression metrics to evaluate performance of our models\n",
    "* explore limitations of classical linear regression\n",
    "\n",
    "### Notes:\n",
    "* do not modify `assert` blocks in code. They are used to check your results\n",
    "    \n",
    "\n",
    "### Data\n",
    "- In this notebook we will work with Football Player attributes per each match played.\n",
    "  \n",
    "  Data is taken from [European Soccer Database](https://www.kaggle.com/hugomathien/soccer) dataset. \n",
    "  \n",
    "  The table used is `Player_Attributes`.\n",
    "\n",
    "\n",
    "### Materias\n",
    "\n",
    "Start with the assignment first. Use materials below as references when needed.\n",
    "\n",
    "* NumPy:\n",
    "    - [quickstart](https://numpy.org/doc/stable/user/quickstart.html)\n",
    "    - [api reference](https://numpy.org/doc/stable/reference/index.html)\n",
    "    \n",
    "\n",
    "* Pandas:\n",
    "    - [10 minutes to pandas](https://pandas.pydata.org/docs/user_guide/10min.html)\n",
    "    - guide on [groupby.transform](https://pandas.pydata.org/docs/user_guide/groupby.html#transformation). \n",
    "      used in one of tasks on data preprocessing\n",
    "    - [cheat sheet](https://pandas.pydata.org/Pandas_Cheat_Sheet.pdf)\n",
    "    \n",
    "\n",
    "* sklearn:\n",
    "    - [LinearRegression](https://scikit-learn.org/stable/modules/generated/sklearn.linear_model.LinearRegression.html#sklearn.linear_model.LinearRegression) class documentation\n",
    "    - guide on [Linear models](https://scikit-learn.org/stable/modules/linear_model.html#ordinary-least-squares)\n",
    "\n",
    "\n",
    "* Matplotlib:\n",
    "    - [cheatsheet](https://matplotlib.org/cheatsheets/)\n",
    "    - examples of [main plot types](https://matplotlib.org/stable/plot_types/index.html)\n",
    "    - [scatter plot](https://matplotlib.org/stable/api/_as_gen/matplotlib.pyplot.scatter.html) documentation"
   ]
  },
  {
   "cell_type": "code",
   "execution_count": null,
   "id": "fdd83a4e",
   "metadata": {},
   "outputs": [],
   "source": []
  },
  {
   "cell_type": "code",
   "execution_count": 5,
   "id": "cccaa2d4",
   "metadata": {
    "ExecuteTime": {
     "end_time": "2022-02-05T15:50:28.686367Z",
     "start_time": "2022-02-05T15:50:27.581843Z"
    }
   },
   "outputs": [],
   "source": [
    "import os\n",
    "\n",
    "import numpy as np\n",
    "import pandas as pd\n",
    "pd.options.display.max_rows = 200\n",
    "pd.options.display.max_columns = 100\n",
    "pd.options.mode.chained_assignment = 'raise'  # forbid chained assignment to prevent implicit errors\n",
    "\n",
    "import matplotlib.pyplot as plt\n",
    "plt.rcParams[\"figure.figsize\"] = (7, 6)  # set default figure size\n",
    "\n",
    "import seaborn as sns\n",
    "sns.set(font_scale=1.1)  # increase default font scale and set seaborn's plot style\n",
    "\n",
    "from typing import List, Iterable"
   ]
  },
  {
   "cell_type": "code",
   "execution_count": null,
   "id": "cf6900e0",
   "metadata": {},
   "outputs": [],
   "source": []
  },
  {
   "cell_type": "markdown",
   "id": "6c59585c",
   "metadata": {},
   "source": [
    "## Data Processing"
   ]
  },
  {
   "cell_type": "code",
   "execution_count": 6,
   "id": "da412d8a",
   "metadata": {
    "ExecuteTime": {
     "end_time": "2022-02-05T15:50:28.701544Z",
     "start_time": "2022-02-05T15:50:28.688368Z"
    }
   },
   "outputs": [
    {
     "name": "stdout",
     "output_type": "stream",
     "text": [
      "data_root_dp: \"tmp\"\n"
     ]
    }
   ],
   "source": [
    "data_root_dp = os.path.join('tmp')  # change to yours path\n",
    "print(f'data_root_dp: \"{data_root_dp}\"')"
   ]
  },
  {
   "cell_type": "code",
   "execution_count": null,
   "id": "f466a4c8",
   "metadata": {},
   "outputs": [],
   "source": []
  },
  {
   "cell_type": "markdown",
   "id": "a8b58c0e",
   "metadata": {},
   "source": [
    "### read the raw SQL data\n",
    "* you can run this code only once.<br>\n",
    "  it will read `.sqlite` file and save extracted data to a more handy `.csv` format"
   ]
  },
  {
   "cell_type": "code",
   "execution_count": 7,
   "id": "2d5769d2",
   "metadata": {
    "ExecuteTime": {
     "end_time": "2022-02-05T15:50:28.762969Z",
     "start_time": "2022-02-05T15:50:28.704803Z"
    }
   },
   "outputs": [],
   "source": [
    "# import sqlite3\n",
    "\n",
    "# # open connection to .sqlite file\n",
    "# data_sql_fp = os.path.join(data_root_dp, 'database.sqlite')\n",
    "# print(f'will read from: \"{data_sql_fp}\"')\n",
    "# con = sqlite3.connect(data_sql_fp)\n",
    "\n",
    "# df = pd.read_sql('select * from Player_Attributes', con)  # run SQL-query\n",
    "# print(f'shape: {df.shape}')\n",
    "# con.close()  # close connection to .sqlite file\n",
    "\n",
    "# # save to .csv\n",
    "# out_fp = os.path.join(data_root_dp, 'tmp', 'player_attributes.csv')\n",
    "# os.makedirs(os.path.dirname(out_fp), exist_ok=True)  # create directories if needed\n",
    "# print(f'will save to: \"{out_fp}\"')\n",
    "# df.to_csv(out_fp, index=False)"
   ]
  },
  {
   "cell_type": "code",
   "execution_count": null,
   "id": "5cd4df53",
   "metadata": {},
   "outputs": [],
   "source": []
  },
  {
   "cell_type": "markdown",
   "id": "a53024bd",
   "metadata": {},
   "source": [
    "### read the  data"
   ]
  },
  {
   "cell_type": "code",
   "execution_count": 8,
   "id": "cac90bbf",
   "metadata": {
    "ExecuteTime": {
     "end_time": "2022-02-05T15:50:29.329081Z",
     "start_time": "2022-02-05T15:50:28.764802Z"
    }
   },
   "outputs": [
    {
     "name": "stdout",
     "output_type": "stream",
     "text": [
      "reading from: \"tmp\\player_attributes.csv\"\n",
      "(183978, 42)\n"
     ]
    }
   ],
   "source": [
    "data_player_attributes_fp = os.path.join(data_root_dp, 'player_attributes.csv')\n",
    "print(f'reading from: \"{data_player_attributes_fp}\"')\n",
    "df = pd.read_csv(data_player_attributes_fp)\n",
    "print(df.shape)"
   ]
  },
  {
   "cell_type": "code",
   "execution_count": 9,
   "id": "e1dc91bc",
   "metadata": {
    "ExecuteTime": {
     "end_time": "2022-02-05T15:50:29.344600Z",
     "start_time": "2022-02-05T15:50:29.331278Z"
    }
   },
   "outputs": [
    {
     "data": {
      "text/plain": [
       "id                       int64\n",
       "player_fifa_api_id       int64\n",
       "player_api_id            int64\n",
       "date                    object\n",
       "overall_rating         float64\n",
       "potential              float64\n",
       "preferred_foot          object\n",
       "attacking_work_rate     object\n",
       "defensive_work_rate     object\n",
       "crossing               float64\n",
       "finishing              float64\n",
       "heading_accuracy       float64\n",
       "short_passing          float64\n",
       "volleys                float64\n",
       "dribbling              float64\n",
       "curve                  float64\n",
       "free_kick_accuracy     float64\n",
       "long_passing           float64\n",
       "ball_control           float64\n",
       "acceleration           float64\n",
       "sprint_speed           float64\n",
       "agility                float64\n",
       "reactions              float64\n",
       "balance                float64\n",
       "shot_power             float64\n",
       "jumping                float64\n",
       "stamina                float64\n",
       "strength               float64\n",
       "long_shots             float64\n",
       "aggression             float64\n",
       "interceptions          float64\n",
       "positioning            float64\n",
       "vision                 float64\n",
       "penalties              float64\n",
       "marking                float64\n",
       "standing_tackle        float64\n",
       "sliding_tackle         float64\n",
       "gk_diving              float64\n",
       "gk_handling            float64\n",
       "gk_kicking             float64\n",
       "gk_positioning         float64\n",
       "gk_reflexes            float64\n",
       "dtype: object"
      ]
     },
     "execution_count": 9,
     "metadata": {},
     "output_type": "execute_result"
    }
   ],
   "source": [
    "df.dtypes"
   ]
  },
  {
   "cell_type": "code",
   "execution_count": null,
   "id": "f1324cc4",
   "metadata": {},
   "outputs": [],
   "source": []
  },
  {
   "cell_type": "markdown",
   "id": "2dab3be6",
   "metadata": {},
   "source": [
    "### basic data processing"
   ]
  },
  {
   "cell_type": "code",
   "execution_count": 10,
   "id": "d7c07b98",
   "metadata": {
    "ExecuteTime": {
     "end_time": "2022-02-05T15:50:29.530177Z",
     "start_time": "2022-02-05T15:50:29.346142Z"
    }
   },
   "outputs": [
    {
     "name": "stdout",
     "output_type": "stream",
     "text": [
      "will drop following columns: ['id', 'player_fifa_api_id', 'preferred_foot', 'attacking_work_rate', 'defensive_work_rate']\n",
      "df.shape: (183142, 37)\n"
     ]
    }
   ],
   "source": [
    "# there are 3 'id' columns in data. \n",
    "# we will use 'player_api_id' only\n",
    "# and drop other 'id' columns.\n",
    "redundant_key_columns = ['id', 'player_fifa_api_id']\n",
    "\n",
    "# also we will drop categorical columns for this task.\n",
    "categorical_columns = ['preferred_foot', 'attacking_work_rate', 'defensive_work_rate']\n",
    "\n",
    "cols_to_drop = redundant_key_columns + categorical_columns\n",
    "print(f'will drop following columns: {cols_to_drop}')\n",
    "df.drop(columns=cols_to_drop, inplace=True)\n",
    "\n",
    "# rename 'player_api_id' column to shorter one: 'id'.\n",
    "df.rename(columns={'player_api_id': 'id'}, inplace=True)\n",
    "\n",
    "# cast string values to datetime\n",
    "df['date'] = pd.to_datetime(df['date'])\n",
    "\n",
    "# drop records that contain only NaNs in features\n",
    "all_features = set(df.columns).difference(['id', 'date'])  # all columns without key columns\n",
    "df.dropna(subset=all_features, how='all', inplace=True)\n",
    "\n",
    "print(f'df.shape: {df.shape}')"
   ]
  },
  {
   "cell_type": "code",
   "execution_count": 11,
   "id": "0255a6b5",
   "metadata": {
    "ExecuteTime": {
     "end_time": "2022-02-05T15:50:29.577558Z",
     "start_time": "2022-02-05T15:50:29.532174Z"
    }
   },
   "outputs": [
    {
     "name": "stdout",
     "output_type": "stream",
     "text": [
      "(183142, 37)\n"
     ]
    }
   ],
   "source": [
    "# the dataset we're working with migh get updated in future (new records might be added).\n",
    "# thus we remove any records with date larger than the current max date in data (2016-07-07)\n",
    "# for compatibility with current version of notebook.\n",
    "df.drop(index=df[df['date'] > '2016-07-07'].index, inplace=True)\n",
    "print(df.shape)"
   ]
  },
  {
   "cell_type": "code",
   "execution_count": null,
   "id": "49f4ab8d",
   "metadata": {},
   "outputs": [],
   "source": []
  },
  {
   "cell_type": "markdown",
   "id": "3ad265de",
   "metadata": {
    "ExecuteTime": {
     "end_time": "2022-01-28T12:35:41.941544Z",
     "start_time": "2022-01-28T12:35:41.883366Z"
    }
   },
   "source": [
    "### drop duplicates\n",
    "\n",
    "* we should **ALWAYS** understand what our data represents\n",
    "\n",
    "\n",
    "* here we are dealing with Football Player attributes per each match played.\n",
    "\n",
    "  so we expect the data to have `(id, date)` as a key\n",
    "  \n",
    "  \n",
    "* let's check whether our assumption holds"
   ]
  },
  {
   "cell_type": "code",
   "execution_count": 12,
   "id": "030381ee",
   "metadata": {
    "ExecuteTime": {
     "end_time": "2022-02-05T15:50:29.608747Z",
     "start_time": "2022-02-05T15:50:29.580864Z"
    }
   },
   "outputs": [
    {
     "data": {
      "text/plain": [
       "False    183142\n",
       "dtype: int64"
      ]
     },
     "execution_count": 12,
     "metadata": {},
     "output_type": "execute_result"
    }
   ],
   "source": [
    "df.duplicated(['id', 'date']).value_counts()"
   ]
  },
  {
   "cell_type": "markdown",
   "id": "fdf60a16",
   "metadata": {},
   "source": [
    "* there are no duplicates if considering `(id, date)` pair as a key"
   ]
  },
  {
   "cell_type": "code",
   "execution_count": 13,
   "id": "4086ef3f",
   "metadata": {
    "ExecuteTime": {
     "end_time": "2022-02-05T15:50:29.624155Z",
     "start_time": "2022-02-05T15:50:29.609731Z"
    }
   },
   "outputs": [
    {
     "data": {
      "text/plain": [
       "True     172082\n",
       "False     11060\n",
       "dtype: int64"
      ]
     },
     "execution_count": 13,
     "metadata": {},
     "output_type": "execute_result"
    }
   ],
   "source": [
    "df.duplicated('id').value_counts()"
   ]
  },
  {
   "cell_type": "markdown",
   "id": "45c10b6b",
   "metadata": {},
   "source": [
    "* and there are duplicates if considering only `id` column as a key"
   ]
  },
  {
   "cell_type": "markdown",
   "id": "da6c2c00",
   "metadata": {},
   "source": [
    "* so our assumption holds. but let's work only with latest stats for each player"
   ]
  },
  {
   "cell_type": "code",
   "execution_count": null,
   "id": "a9ec3b78",
   "metadata": {},
   "outputs": [],
   "source": []
  },
  {
   "cell_type": "markdown",
   "id": "b1de721c",
   "metadata": {},
   "source": [
    "#### Task 1. Keep only latest data for each player (1 point)\n",
    "\n",
    "* HINT: you can use \n",
    "\n",
    "  `df[<new_column>] = df.groupby(<key_to_aggregate>)[<column>].transform('max')` \n",
    "  \n",
    "  to get the `max` value of `<column>` for each group specified by `<key_to_aggregate>` columns.\n",
    "  \n",
    "  then you'll have to filter rows using `<column>` and `<new_column>` values\n",
    "  \n",
    "\n",
    "* don't forget to remove any additional columns you introduce here"
   ]
  },
  {
   "cell_type": "code",
   "execution_count": 14,
   "id": "cc87b057",
   "metadata": {
    "ExecuteTime": {
     "end_time": "2022-02-05T15:50:29.639771Z",
     "start_time": "2022-02-05T15:50:29.625866Z"
    }
   },
   "outputs": [
    {
     "name": "stdout",
     "output_type": "stream",
     "text": [
      "(11060, 37)\n"
     ]
    },
    {
     "data": {
      "text/html": [
       "<div>\n",
       "<style scoped>\n",
       "    .dataframe tbody tr th:only-of-type {\n",
       "        vertical-align: middle;\n",
       "    }\n",
       "\n",
       "    .dataframe tbody tr th {\n",
       "        vertical-align: top;\n",
       "    }\n",
       "\n",
       "    .dataframe thead th {\n",
       "        text-align: right;\n",
       "    }\n",
       "</style>\n",
       "<table border=\"1\" class=\"dataframe\">\n",
       "  <thead>\n",
       "    <tr style=\"text-align: right;\">\n",
       "      <th></th>\n",
       "      <th>id</th>\n",
       "      <th>date</th>\n",
       "      <th>overall_rating</th>\n",
       "      <th>potential</th>\n",
       "      <th>crossing</th>\n",
       "      <th>finishing</th>\n",
       "      <th>heading_accuracy</th>\n",
       "      <th>short_passing</th>\n",
       "      <th>volleys</th>\n",
       "      <th>dribbling</th>\n",
       "      <th>curve</th>\n",
       "      <th>free_kick_accuracy</th>\n",
       "      <th>long_passing</th>\n",
       "      <th>ball_control</th>\n",
       "      <th>acceleration</th>\n",
       "      <th>sprint_speed</th>\n",
       "      <th>agility</th>\n",
       "      <th>reactions</th>\n",
       "      <th>balance</th>\n",
       "      <th>shot_power</th>\n",
       "      <th>jumping</th>\n",
       "      <th>stamina</th>\n",
       "      <th>strength</th>\n",
       "      <th>long_shots</th>\n",
       "      <th>aggression</th>\n",
       "      <th>interceptions</th>\n",
       "      <th>positioning</th>\n",
       "      <th>vision</th>\n",
       "      <th>penalties</th>\n",
       "      <th>marking</th>\n",
       "      <th>standing_tackle</th>\n",
       "      <th>sliding_tackle</th>\n",
       "      <th>gk_diving</th>\n",
       "      <th>gk_handling</th>\n",
       "      <th>gk_kicking</th>\n",
       "      <th>gk_positioning</th>\n",
       "      <th>gk_reflexes</th>\n",
       "    </tr>\n",
       "  </thead>\n",
       "  <tbody>\n",
       "    <tr>\n",
       "      <th>18845</th>\n",
       "      <td>317932</td>\n",
       "      <td>2016-07-07</td>\n",
       "      <td>66.0</td>\n",
       "      <td>76.0</td>\n",
       "      <td>37.0</td>\n",
       "      <td>27.0</td>\n",
       "      <td>60.0</td>\n",
       "      <td>47.0</td>\n",
       "      <td>32.0</td>\n",
       "      <td>32.0</td>\n",
       "      <td>31.0</td>\n",
       "      <td>37.0</td>\n",
       "      <td>45.0</td>\n",
       "      <td>61.0</td>\n",
       "      <td>65.0</td>\n",
       "      <td>64.0</td>\n",
       "      <td>54.0</td>\n",
       "      <td>58.0</td>\n",
       "      <td>62.0</td>\n",
       "      <td>42.0</td>\n",
       "      <td>80.0</td>\n",
       "      <td>63.0</td>\n",
       "      <td>66.0</td>\n",
       "      <td>29.0</td>\n",
       "      <td>65.0</td>\n",
       "      <td>64.0</td>\n",
       "      <td>33.0</td>\n",
       "      <td>27.0</td>\n",
       "      <td>50.0</td>\n",
       "      <td>72.0</td>\n",
       "      <td>73.0</td>\n",
       "      <td>70.0</td>\n",
       "      <td>12.0</td>\n",
       "      <td>11.0</td>\n",
       "      <td>12.0</td>\n",
       "      <td>15.0</td>\n",
       "      <td>7.0</td>\n",
       "    </tr>\n",
       "    <tr>\n",
       "      <th>95620</th>\n",
       "      <td>307224</td>\n",
       "      <td>2016-07-07</td>\n",
       "      <td>64.0</td>\n",
       "      <td>68.0</td>\n",
       "      <td>44.0</td>\n",
       "      <td>63.0</td>\n",
       "      <td>73.0</td>\n",
       "      <td>49.0</td>\n",
       "      <td>52.0</td>\n",
       "      <td>52.0</td>\n",
       "      <td>42.0</td>\n",
       "      <td>31.0</td>\n",
       "      <td>45.0</td>\n",
       "      <td>63.0</td>\n",
       "      <td>71.0</td>\n",
       "      <td>70.0</td>\n",
       "      <td>59.0</td>\n",
       "      <td>57.0</td>\n",
       "      <td>48.0</td>\n",
       "      <td>69.0</td>\n",
       "      <td>48.0</td>\n",
       "      <td>73.0</td>\n",
       "      <td>86.0</td>\n",
       "      <td>53.0</td>\n",
       "      <td>55.0</td>\n",
       "      <td>22.0</td>\n",
       "      <td>66.0</td>\n",
       "      <td>55.0</td>\n",
       "      <td>65.0</td>\n",
       "      <td>22.0</td>\n",
       "      <td>22.0</td>\n",
       "      <td>25.0</td>\n",
       "      <td>12.0</td>\n",
       "      <td>12.0</td>\n",
       "      <td>7.0</td>\n",
       "      <td>11.0</td>\n",
       "      <td>12.0</td>\n",
       "    </tr>\n",
       "    <tr>\n",
       "      <th>181048</th>\n",
       "      <td>512726</td>\n",
       "      <td>2016-07-07</td>\n",
       "      <td>63.0</td>\n",
       "      <td>72.0</td>\n",
       "      <td>51.0</td>\n",
       "      <td>66.0</td>\n",
       "      <td>55.0</td>\n",
       "      <td>57.0</td>\n",
       "      <td>60.0</td>\n",
       "      <td>64.0</td>\n",
       "      <td>50.0</td>\n",
       "      <td>39.0</td>\n",
       "      <td>48.0</td>\n",
       "      <td>63.0</td>\n",
       "      <td>80.0</td>\n",
       "      <td>80.0</td>\n",
       "      <td>72.0</td>\n",
       "      <td>60.0</td>\n",
       "      <td>70.0</td>\n",
       "      <td>64.0</td>\n",
       "      <td>74.0</td>\n",
       "      <td>67.0</td>\n",
       "      <td>61.0</td>\n",
       "      <td>61.0</td>\n",
       "      <td>33.0</td>\n",
       "      <td>22.0</td>\n",
       "      <td>56.0</td>\n",
       "      <td>48.0</td>\n",
       "      <td>59.0</td>\n",
       "      <td>15.0</td>\n",
       "      <td>16.0</td>\n",
       "      <td>12.0</td>\n",
       "      <td>11.0</td>\n",
       "      <td>12.0</td>\n",
       "      <td>12.0</td>\n",
       "      <td>12.0</td>\n",
       "      <td>7.0</td>\n",
       "    </tr>\n",
       "    <tr>\n",
       "      <th>1329</th>\n",
       "      <td>495841</td>\n",
       "      <td>2016-07-07</td>\n",
       "      <td>72.0</td>\n",
       "      <td>84.0</td>\n",
       "      <td>49.0</td>\n",
       "      <td>78.0</td>\n",
       "      <td>71.0</td>\n",
       "      <td>63.0</td>\n",
       "      <td>56.0</td>\n",
       "      <td>74.0</td>\n",
       "      <td>45.0</td>\n",
       "      <td>43.0</td>\n",
       "      <td>49.0</td>\n",
       "      <td>73.0</td>\n",
       "      <td>82.0</td>\n",
       "      <td>81.0</td>\n",
       "      <td>60.0</td>\n",
       "      <td>71.0</td>\n",
       "      <td>60.0</td>\n",
       "      <td>73.0</td>\n",
       "      <td>61.0</td>\n",
       "      <td>64.0</td>\n",
       "      <td>63.0</td>\n",
       "      <td>70.0</td>\n",
       "      <td>35.0</td>\n",
       "      <td>20.0</td>\n",
       "      <td>69.0</td>\n",
       "      <td>59.0</td>\n",
       "      <td>77.0</td>\n",
       "      <td>20.0</td>\n",
       "      <td>20.0</td>\n",
       "      <td>21.0</td>\n",
       "      <td>6.0</td>\n",
       "      <td>14.0</td>\n",
       "      <td>13.0</td>\n",
       "      <td>8.0</td>\n",
       "      <td>6.0</td>\n",
       "    </tr>\n",
       "    <tr>\n",
       "      <th>57229</th>\n",
       "      <td>184521</td>\n",
       "      <td>2016-07-07</td>\n",
       "      <td>73.0</td>\n",
       "      <td>77.0</td>\n",
       "      <td>51.0</td>\n",
       "      <td>42.0</td>\n",
       "      <td>75.0</td>\n",
       "      <td>68.0</td>\n",
       "      <td>42.0</td>\n",
       "      <td>47.0</td>\n",
       "      <td>47.0</td>\n",
       "      <td>41.0</td>\n",
       "      <td>67.0</td>\n",
       "      <td>62.0</td>\n",
       "      <td>49.0</td>\n",
       "      <td>55.0</td>\n",
       "      <td>52.0</td>\n",
       "      <td>67.0</td>\n",
       "      <td>47.0</td>\n",
       "      <td>77.0</td>\n",
       "      <td>55.0</td>\n",
       "      <td>74.0</td>\n",
       "      <td>92.0</td>\n",
       "      <td>66.0</td>\n",
       "      <td>77.0</td>\n",
       "      <td>72.0</td>\n",
       "      <td>46.0</td>\n",
       "      <td>32.0</td>\n",
       "      <td>43.0</td>\n",
       "      <td>74.0</td>\n",
       "      <td>75.0</td>\n",
       "      <td>69.0</td>\n",
       "      <td>11.0</td>\n",
       "      <td>15.0</td>\n",
       "      <td>15.0</td>\n",
       "      <td>12.0</td>\n",
       "      <td>7.0</td>\n",
       "    </tr>\n",
       "    <tr>\n",
       "      <th>...</th>\n",
       "      <td>...</td>\n",
       "      <td>...</td>\n",
       "      <td>...</td>\n",
       "      <td>...</td>\n",
       "      <td>...</td>\n",
       "      <td>...</td>\n",
       "      <td>...</td>\n",
       "      <td>...</td>\n",
       "      <td>...</td>\n",
       "      <td>...</td>\n",
       "      <td>...</td>\n",
       "      <td>...</td>\n",
       "      <td>...</td>\n",
       "      <td>...</td>\n",
       "      <td>...</td>\n",
       "      <td>...</td>\n",
       "      <td>...</td>\n",
       "      <td>...</td>\n",
       "      <td>...</td>\n",
       "      <td>...</td>\n",
       "      <td>...</td>\n",
       "      <td>...</td>\n",
       "      <td>...</td>\n",
       "      <td>...</td>\n",
       "      <td>...</td>\n",
       "      <td>...</td>\n",
       "      <td>...</td>\n",
       "      <td>...</td>\n",
       "      <td>...</td>\n",
       "      <td>...</td>\n",
       "      <td>...</td>\n",
       "      <td>...</td>\n",
       "      <td>...</td>\n",
       "      <td>...</td>\n",
       "      <td>...</td>\n",
       "      <td>...</td>\n",
       "      <td>...</td>\n",
       "    </tr>\n",
       "    <tr>\n",
       "      <th>18403</th>\n",
       "      <td>46580</td>\n",
       "      <td>2008-08-30</td>\n",
       "      <td>59.0</td>\n",
       "      <td>67.0</td>\n",
       "      <td>37.0</td>\n",
       "      <td>41.0</td>\n",
       "      <td>69.0</td>\n",
       "      <td>52.0</td>\n",
       "      <td>NaN</td>\n",
       "      <td>63.0</td>\n",
       "      <td>NaN</td>\n",
       "      <td>38.0</td>\n",
       "      <td>57.0</td>\n",
       "      <td>52.0</td>\n",
       "      <td>65.0</td>\n",
       "      <td>62.0</td>\n",
       "      <td>NaN</td>\n",
       "      <td>62.0</td>\n",
       "      <td>NaN</td>\n",
       "      <td>38.0</td>\n",
       "      <td>NaN</td>\n",
       "      <td>68.0</td>\n",
       "      <td>68.0</td>\n",
       "      <td>32.0</td>\n",
       "      <td>63.0</td>\n",
       "      <td>55.0</td>\n",
       "      <td>64.0</td>\n",
       "      <td>NaN</td>\n",
       "      <td>67.0</td>\n",
       "      <td>53.0</td>\n",
       "      <td>63.0</td>\n",
       "      <td>NaN</td>\n",
       "      <td>2.0</td>\n",
       "      <td>20.0</td>\n",
       "      <td>57.0</td>\n",
       "      <td>20.0</td>\n",
       "      <td>20.0</td>\n",
       "    </tr>\n",
       "    <tr>\n",
       "      <th>34389</th>\n",
       "      <td>25770</td>\n",
       "      <td>2008-08-30</td>\n",
       "      <td>57.0</td>\n",
       "      <td>62.0</td>\n",
       "      <td>38.0</td>\n",
       "      <td>42.0</td>\n",
       "      <td>56.0</td>\n",
       "      <td>53.0</td>\n",
       "      <td>NaN</td>\n",
       "      <td>48.0</td>\n",
       "      <td>NaN</td>\n",
       "      <td>48.0</td>\n",
       "      <td>50.0</td>\n",
       "      <td>58.0</td>\n",
       "      <td>58.0</td>\n",
       "      <td>55.0</td>\n",
       "      <td>NaN</td>\n",
       "      <td>53.0</td>\n",
       "      <td>NaN</td>\n",
       "      <td>65.0</td>\n",
       "      <td>NaN</td>\n",
       "      <td>53.0</td>\n",
       "      <td>52.0</td>\n",
       "      <td>49.0</td>\n",
       "      <td>56.0</td>\n",
       "      <td>58.0</td>\n",
       "      <td>55.0</td>\n",
       "      <td>NaN</td>\n",
       "      <td>54.0</td>\n",
       "      <td>61.0</td>\n",
       "      <td>62.0</td>\n",
       "      <td>NaN</td>\n",
       "      <td>8.0</td>\n",
       "      <td>21.0</td>\n",
       "      <td>50.0</td>\n",
       "      <td>21.0</td>\n",
       "      <td>21.0</td>\n",
       "    </tr>\n",
       "    <tr>\n",
       "      <th>33968</th>\n",
       "      <td>132830</td>\n",
       "      <td>2008-08-30</td>\n",
       "      <td>56.0</td>\n",
       "      <td>77.0</td>\n",
       "      <td>52.0</td>\n",
       "      <td>34.0</td>\n",
       "      <td>38.0</td>\n",
       "      <td>66.0</td>\n",
       "      <td>NaN</td>\n",
       "      <td>38.0</td>\n",
       "      <td>NaN</td>\n",
       "      <td>29.0</td>\n",
       "      <td>48.0</td>\n",
       "      <td>61.0</td>\n",
       "      <td>63.0</td>\n",
       "      <td>69.0</td>\n",
       "      <td>NaN</td>\n",
       "      <td>58.0</td>\n",
       "      <td>NaN</td>\n",
       "      <td>26.0</td>\n",
       "      <td>NaN</td>\n",
       "      <td>73.0</td>\n",
       "      <td>44.0</td>\n",
       "      <td>28.0</td>\n",
       "      <td>60.0</td>\n",
       "      <td>38.0</td>\n",
       "      <td>53.0</td>\n",
       "      <td>NaN</td>\n",
       "      <td>47.0</td>\n",
       "      <td>51.0</td>\n",
       "      <td>49.0</td>\n",
       "      <td>NaN</td>\n",
       "      <td>9.0</td>\n",
       "      <td>21.0</td>\n",
       "      <td>48.0</td>\n",
       "      <td>21.0</td>\n",
       "      <td>21.0</td>\n",
       "    </tr>\n",
       "    <tr>\n",
       "      <th>80570</th>\n",
       "      <td>33688</td>\n",
       "      <td>2007-08-30</td>\n",
       "      <td>66.0</td>\n",
       "      <td>74.0</td>\n",
       "      <td>25.0</td>\n",
       "      <td>25.0</td>\n",
       "      <td>25.0</td>\n",
       "      <td>23.0</td>\n",
       "      <td>NaN</td>\n",
       "      <td>25.0</td>\n",
       "      <td>NaN</td>\n",
       "      <td>9.0</td>\n",
       "      <td>65.0</td>\n",
       "      <td>21.0</td>\n",
       "      <td>64.0</td>\n",
       "      <td>26.0</td>\n",
       "      <td>NaN</td>\n",
       "      <td>52.0</td>\n",
       "      <td>NaN</td>\n",
       "      <td>34.0</td>\n",
       "      <td>NaN</td>\n",
       "      <td>39.0</td>\n",
       "      <td>53.0</td>\n",
       "      <td>25.0</td>\n",
       "      <td>54.0</td>\n",
       "      <td>71.0</td>\n",
       "      <td>63.0</td>\n",
       "      <td>NaN</td>\n",
       "      <td>73.0</td>\n",
       "      <td>25.0</td>\n",
       "      <td>25.0</td>\n",
       "      <td>NaN</td>\n",
       "      <td>63.0</td>\n",
       "      <td>67.0</td>\n",
       "      <td>65.0</td>\n",
       "      <td>64.0</td>\n",
       "      <td>73.0</td>\n",
       "    </tr>\n",
       "    <tr>\n",
       "      <th>144773</th>\n",
       "      <td>359194</td>\n",
       "      <td>2007-08-30</td>\n",
       "      <td>56.0</td>\n",
       "      <td>70.0</td>\n",
       "      <td>34.0</td>\n",
       "      <td>56.0</td>\n",
       "      <td>55.0</td>\n",
       "      <td>42.0</td>\n",
       "      <td>NaN</td>\n",
       "      <td>45.0</td>\n",
       "      <td>NaN</td>\n",
       "      <td>32.0</td>\n",
       "      <td>40.0</td>\n",
       "      <td>53.0</td>\n",
       "      <td>53.0</td>\n",
       "      <td>67.0</td>\n",
       "      <td>NaN</td>\n",
       "      <td>43.0</td>\n",
       "      <td>NaN</td>\n",
       "      <td>56.0</td>\n",
       "      <td>NaN</td>\n",
       "      <td>52.0</td>\n",
       "      <td>56.0</td>\n",
       "      <td>47.0</td>\n",
       "      <td>55.0</td>\n",
       "      <td>52.0</td>\n",
       "      <td>36.0</td>\n",
       "      <td>NaN</td>\n",
       "      <td>56.0</td>\n",
       "      <td>23.0</td>\n",
       "      <td>23.0</td>\n",
       "      <td>NaN</td>\n",
       "      <td>18.0</td>\n",
       "      <td>23.0</td>\n",
       "      <td>40.0</td>\n",
       "      <td>23.0</td>\n",
       "      <td>23.0</td>\n",
       "    </tr>\n",
       "  </tbody>\n",
       "</table>\n",
       "<p>11060 rows × 37 columns</p>\n",
       "</div>"
      ],
      "text/plain": [
       "            id       date  overall_rating  potential  crossing  finishing  \\\n",
       "18845   317932 2016-07-07            66.0       76.0      37.0       27.0   \n",
       "95620   307224 2016-07-07            64.0       68.0      44.0       63.0   \n",
       "181048  512726 2016-07-07            63.0       72.0      51.0       66.0   \n",
       "1329    495841 2016-07-07            72.0       84.0      49.0       78.0   \n",
       "57229   184521 2016-07-07            73.0       77.0      51.0       42.0   \n",
       "...        ...        ...             ...        ...       ...        ...   \n",
       "18403    46580 2008-08-30            59.0       67.0      37.0       41.0   \n",
       "34389    25770 2008-08-30            57.0       62.0      38.0       42.0   \n",
       "33968   132830 2008-08-30            56.0       77.0      52.0       34.0   \n",
       "80570    33688 2007-08-30            66.0       74.0      25.0       25.0   \n",
       "144773  359194 2007-08-30            56.0       70.0      34.0       56.0   \n",
       "\n",
       "        heading_accuracy  short_passing  volleys  dribbling  curve  \\\n",
       "18845               60.0           47.0     32.0       32.0   31.0   \n",
       "95620               73.0           49.0     52.0       52.0   42.0   \n",
       "181048              55.0           57.0     60.0       64.0   50.0   \n",
       "1329                71.0           63.0     56.0       74.0   45.0   \n",
       "57229               75.0           68.0     42.0       47.0   47.0   \n",
       "...                  ...            ...      ...        ...    ...   \n",
       "18403               69.0           52.0      NaN       63.0    NaN   \n",
       "34389               56.0           53.0      NaN       48.0    NaN   \n",
       "33968               38.0           66.0      NaN       38.0    NaN   \n",
       "80570               25.0           23.0      NaN       25.0    NaN   \n",
       "144773              55.0           42.0      NaN       45.0    NaN   \n",
       "\n",
       "        free_kick_accuracy  long_passing  ball_control  acceleration  \\\n",
       "18845                 37.0          45.0          61.0          65.0   \n",
       "95620                 31.0          45.0          63.0          71.0   \n",
       "181048                39.0          48.0          63.0          80.0   \n",
       "1329                  43.0          49.0          73.0          82.0   \n",
       "57229                 41.0          67.0          62.0          49.0   \n",
       "...                    ...           ...           ...           ...   \n",
       "18403                 38.0          57.0          52.0          65.0   \n",
       "34389                 48.0          50.0          58.0          58.0   \n",
       "33968                 29.0          48.0          61.0          63.0   \n",
       "80570                  9.0          65.0          21.0          64.0   \n",
       "144773                32.0          40.0          53.0          53.0   \n",
       "\n",
       "        sprint_speed  agility  reactions  balance  shot_power  jumping  \\\n",
       "18845           64.0     54.0       58.0     62.0        42.0     80.0   \n",
       "95620           70.0     59.0       57.0     48.0        69.0     48.0   \n",
       "181048          80.0     72.0       60.0     70.0        64.0     74.0   \n",
       "1329            81.0     60.0       71.0     60.0        73.0     61.0   \n",
       "57229           55.0     52.0       67.0     47.0        77.0     55.0   \n",
       "...              ...      ...        ...      ...         ...      ...   \n",
       "18403           62.0      NaN       62.0      NaN        38.0      NaN   \n",
       "34389           55.0      NaN       53.0      NaN        65.0      NaN   \n",
       "33968           69.0      NaN       58.0      NaN        26.0      NaN   \n",
       "80570           26.0      NaN       52.0      NaN        34.0      NaN   \n",
       "144773          67.0      NaN       43.0      NaN        56.0      NaN   \n",
       "\n",
       "        stamina  strength  long_shots  aggression  interceptions  positioning  \\\n",
       "18845      63.0      66.0        29.0        65.0           64.0         33.0   \n",
       "95620      73.0      86.0        53.0        55.0           22.0         66.0   \n",
       "181048     67.0      61.0        61.0        33.0           22.0         56.0   \n",
       "1329       64.0      63.0        70.0        35.0           20.0         69.0   \n",
       "57229      74.0      92.0        66.0        77.0           72.0         46.0   \n",
       "...         ...       ...         ...         ...            ...          ...   \n",
       "18403      68.0      68.0        32.0        63.0           55.0         64.0   \n",
       "34389      53.0      52.0        49.0        56.0           58.0         55.0   \n",
       "33968      73.0      44.0        28.0        60.0           38.0         53.0   \n",
       "80570      39.0      53.0        25.0        54.0           71.0         63.0   \n",
       "144773     52.0      56.0        47.0        55.0           52.0         36.0   \n",
       "\n",
       "        vision  penalties  marking  standing_tackle  sliding_tackle  \\\n",
       "18845     27.0       50.0     72.0             73.0            70.0   \n",
       "95620     55.0       65.0     22.0             22.0            25.0   \n",
       "181048    48.0       59.0     15.0             16.0            12.0   \n",
       "1329      59.0       77.0     20.0             20.0            21.0   \n",
       "57229     32.0       43.0     74.0             75.0            69.0   \n",
       "...        ...        ...      ...              ...             ...   \n",
       "18403      NaN       67.0     53.0             63.0             NaN   \n",
       "34389      NaN       54.0     61.0             62.0             NaN   \n",
       "33968      NaN       47.0     51.0             49.0             NaN   \n",
       "80570      NaN       73.0     25.0             25.0             NaN   \n",
       "144773     NaN       56.0     23.0             23.0             NaN   \n",
       "\n",
       "        gk_diving  gk_handling  gk_kicking  gk_positioning  gk_reflexes  \n",
       "18845        12.0         11.0        12.0            15.0          7.0  \n",
       "95620        12.0         12.0         7.0            11.0         12.0  \n",
       "181048       11.0         12.0        12.0            12.0          7.0  \n",
       "1329          6.0         14.0        13.0             8.0          6.0  \n",
       "57229        11.0         15.0        15.0            12.0          7.0  \n",
       "...           ...          ...         ...             ...          ...  \n",
       "18403         2.0         20.0        57.0            20.0         20.0  \n",
       "34389         8.0         21.0        50.0            21.0         21.0  \n",
       "33968         9.0         21.0        48.0            21.0         21.0  \n",
       "80570        63.0         67.0        65.0            64.0         73.0  \n",
       "144773       18.0         23.0        40.0            23.0         23.0  \n",
       "\n",
       "[11060 rows x 37 columns]"
      ]
     },
     "execution_count": 14,
     "metadata": {},
     "output_type": "execute_result"
    }
   ],
   "source": [
    "# # your code here\n",
    "\n",
    "# df['...'] = ...\n",
    "# df.drop(...)\n",
    "# df['Latest data'] = df.groupby('date')['date'].transform('max')\n",
    "df=df.sort_values('date',ascending=False).drop_duplicates(['id'])\n",
    "\n",
    "print(df.shape)\n",
    "df"
   ]
  },
  {
   "cell_type": "code",
   "execution_count": 15,
   "id": "f9c8ec16",
   "metadata": {
    "ExecuteTime": {
     "end_time": "2022-02-05T15:50:29.733313Z",
     "start_time": "2022-02-05T15:50:29.718598Z"
    }
   },
   "outputs": [],
   "source": [
    "assert df.duplicated(['id']).sum() == 0"
   ]
  },
  {
   "cell_type": "code",
   "execution_count": 16,
   "id": "ebc1701c",
   "metadata": {
    "ExecuteTime": {
     "end_time": "2022-02-05T15:50:29.748115Z",
     "start_time": "2022-02-05T15:50:29.735521Z"
    }
   },
   "outputs": [],
   "source": [
    "# no longer need 'id' and 'date' columns\n",
    "df.drop(columns=['id', 'date'], inplace=True)"
   ]
  },
  {
   "cell_type": "code",
   "execution_count": null,
   "id": "ccdcffa6",
   "metadata": {},
   "outputs": [],
   "source": []
  },
  {
   "cell_type": "markdown",
   "id": "944b90ee",
   "metadata": {},
   "source": [
    "### NaNs"
   ]
  },
  {
   "cell_type": "code",
   "execution_count": 17,
   "id": "6c25a7e1",
   "metadata": {
    "ExecuteTime": {
     "end_time": "2022-02-05T15:50:29.763295Z",
     "start_time": "2022-02-05T15:50:29.750116Z"
    }
   },
   "outputs": [
    {
     "data": {
      "text/plain": [
       "overall_rating          0\n",
       "potential               0\n",
       "crossing                0\n",
       "finishing               0\n",
       "heading_accuracy        0\n",
       "short_passing           0\n",
       "volleys               478\n",
       "dribbling               0\n",
       "curve                 478\n",
       "free_kick_accuracy      0\n",
       "long_passing            0\n",
       "ball_control            0\n",
       "acceleration            0\n",
       "sprint_speed            0\n",
       "agility               478\n",
       "reactions               0\n",
       "balance               478\n",
       "shot_power              0\n",
       "jumping               478\n",
       "stamina                 0\n",
       "strength                0\n",
       "long_shots              0\n",
       "aggression              0\n",
       "interceptions           0\n",
       "positioning             0\n",
       "vision                478\n",
       "penalties               0\n",
       "marking                 0\n",
       "standing_tackle         0\n",
       "sliding_tackle        478\n",
       "gk_diving               0\n",
       "gk_handling             0\n",
       "gk_kicking              0\n",
       "gk_positioning          0\n",
       "gk_reflexes             0\n",
       "dtype: int64"
      ]
     },
     "execution_count": 17,
     "metadata": {},
     "output_type": "execute_result"
    }
   ],
   "source": [
    "df.isna().sum()"
   ]
  },
  {
   "cell_type": "markdown",
   "id": "5d2ba710",
   "metadata": {},
   "source": [
    "* do you see any pattern in how NaNs are distributed?"
   ]
  },
  {
   "cell_type": "code",
   "execution_count": 18,
   "id": "4c056d52",
   "metadata": {
    "ExecuteTime": {
     "end_time": "2022-02-05T15:50:29.778650Z",
     "start_time": "2022-02-05T15:50:29.765289Z"
    }
   },
   "outputs": [
    {
     "data": {
      "text/plain": [
       "0    10582\n",
       "7      478\n",
       "dtype: int64"
      ]
     },
     "execution_count": 18,
     "metadata": {},
     "output_type": "execute_result"
    }
   ],
   "source": [
    "df.isna().sum(axis=1).value_counts()"
   ]
  },
  {
   "cell_type": "code",
   "execution_count": null,
   "id": "1c711b1b",
   "metadata": {},
   "outputs": [],
   "source": []
  },
  {
   "cell_type": "markdown",
   "id": "755f3f83",
   "metadata": {},
   "source": [
    "#### Task 2. Drop rows that contain NaNs in those 7 columns (1 point)"
   ]
  },
  {
   "cell_type": "code",
   "execution_count": 19,
   "id": "494db6fb",
   "metadata": {
    "ExecuteTime": {
     "end_time": "2022-02-05T15:50:29.793991Z",
     "start_time": "2022-02-05T15:50:29.780000Z"
    }
   },
   "outputs": [],
   "source": [
    "subset=['volleys', 'curve', 'agility', 'balance', 'jumping', 'vision', 'sliding_tackle']"
   ]
  },
  {
   "cell_type": "code",
   "execution_count": 20,
   "id": "d39076e9",
   "metadata": {
    "ExecuteTime": {
     "end_time": "2022-02-05T15:50:29.809854Z",
     "start_time": "2022-02-05T15:50:29.796711Z"
    }
   },
   "outputs": [],
   "source": [
    "# your code here\n",
    "df=df.dropna()"
   ]
  },
  {
   "cell_type": "code",
   "execution_count": 21,
   "id": "19ca7656",
   "metadata": {
    "ExecuteTime": {
     "end_time": "2022-02-05T15:50:29.840082Z",
     "start_time": "2022-02-05T15:50:29.825620Z"
    }
   },
   "outputs": [],
   "source": [
    "assert df.isna().sum().sum() == 0"
   ]
  },
  {
   "cell_type": "code",
   "execution_count": null,
   "id": "0f49facb",
   "metadata": {},
   "outputs": [],
   "source": []
  },
  {
   "cell_type": "markdown",
   "id": "ff5ee4e2",
   "metadata": {},
   "source": [
    "## Task 3. Implement main regression metrics yourself (up to 4 points):\n",
    "* Mean Squared Error (mse) - **(1 point)**\n",
    "* Mean Absolute Error (mae) - **(1 point)**\n",
    "* Mean Absolute Percentage Error (mape) - **(1 point)**\n",
    "* R-squared (r2) - **(1 point)**\n",
    "\n",
    "\n",
    "#### bonus point: MAPE is implemented in such way to take possible 0 in `y_true` into account\n",
    "Hints:\n",
    "\n",
    "* you should divide on \n",
    "  $ \\hat{y}_{pred} = (\\hat{y}_{pred}^{(0)}, \\hat{y}_{pred}^{(1)}, ..., \\hat{y}_{pred}^{(n)}) $,\n",
    "  \n",
    "  where $ \\ \\ \\hat{y}_{pred}^{(i)} = max(\\ \\ | y_{pred}^{(i)} |, \\ \\ \\epsilon), \\ \\ \\epsilon > 0, \\ \\ y_{pred}^{(i)} \\in \\mathbb R $\n",
    "  \n",
    "\n",
    "* for compatibility with `sklearn` take \n",
    "\n",
    "  `eps = np.finfo(np.float64).eps`\n",
    "  \n",
    "  \n",
    "#### bonus point: $R^2$ is implemented in such way to take possible 0 in numerator and denominator into account\n",
    "Hints:\n",
    "\n",
    "* recall the formula: $ R^2 = 1 - \\dfrac{SS_{residuals}}{SS_{total}} $\n",
    "\n",
    "\n",
    "* you should return:\n",
    "\n",
    "    $\n",
    "    \\begin{cases}\n",
    "     R^2 & \\text{ if } SS_{residuals} \\ne 0 \\text{ and  } SS_{total} \\ne 0 \n",
    "     \\\\\n",
    "     0 & \\text{ if } SS_{residuals} \\ne 0 \\text{ and  } SS_{total} = 0 \n",
    "     \\\\\n",
    "     1 & \\text { otherwise }\n",
    "    \\end{cases}\n",
    "    $\n",
    "    \n",
    "\n",
    "* for a better understanding of $R^2$ coefficient \n",
    "  try to explain to yourself why we return those values in each of edge cases"
   ]
  },
  {
   "cell_type": "code",
   "execution_count": 22,
   "id": "7b33ae63",
   "metadata": {
    "ExecuteTime": {
     "end_time": "2022-02-05T15:50:29.855630Z",
     "start_time": "2022-02-05T15:50:29.842173Z"
    }
   },
   "outputs": [],
   "source": [
    "# we use '*' in the beggining of each function signature\n",
    "# to forbid positional arguments and enforce the use of kwargs.\n",
    "# this helps to avoid mistake when arguments are passed in wrong order.\n",
    "\n",
    "# write down code instead of raising NotImplementedError in each of functions below.\n",
    "\n",
    "def mse(*, y_true, y_pred):\n",
    "    return sum((y_pred-y_true)**2)/len(y_pred)\n",
    "    \n",
    "def mae(*, y_true, y_pred):\n",
    "    return  sum(abs(y_pred-y_true))/len(y_pred)\n",
    "    \n",
    "def mape(*, y_true, y_pred):\n",
    "    # y_mean=sum(y_true)/len(y_true)\n",
    "    return (sum(abs(y_true-y_pred)/y_true))/len(y_pred)\n",
    "    \n",
    "def r2(*, y_true, y_pred):\n",
    "    y_mean=sum(y_true)/len(y_true)\n",
    "    SS_tot=sum((y_true-y_mean)**2)\n",
    "    SS_res=sum((y_true-y_pred)**2)\n",
    "    r2=1-SS_res/SS_tot\n",
    "    return r2"
   ]
  },
  {
   "cell_type": "code",
   "execution_count": null,
   "id": "78ff1516",
   "metadata": {},
   "outputs": [],
   "source": []
  },
  {
   "cell_type": "markdown",
   "id": "86e4f617",
   "metadata": {},
   "source": [
    "### Validate your implementations are correct\n",
    "\n",
    "* we'll use synthetic data for this task\n"
   ]
  },
  {
   "cell_type": "code",
   "execution_count": 23,
   "id": "4bd6309b",
   "metadata": {
    "ExecuteTime": {
     "end_time": "2022-02-05T15:50:29.948530Z",
     "start_time": "2022-02-05T15:50:29.873343Z"
    }
   },
   "outputs": [],
   "source": [
    "from sklearn.metrics import (\n",
    "    mean_squared_error as mse_lib, \n",
    "    mean_absolute_error as mae_lib,\n",
    "    mean_absolute_percentage_error as mape_lib,\n",
    "    r2_score as r2_lib\n",
    ")"
   ]
  },
  {
   "cell_type": "code",
   "execution_count": 24,
   "id": "3470669f",
   "metadata": {
    "ExecuteTime": {
     "end_time": "2022-02-05T15:50:29.964603Z",
     "start_time": "2022-02-05T15:50:29.952530Z"
    }
   },
   "outputs": [],
   "source": [
    "def compare_metrics(fn, fn_lib, y_true, y_pred, n_digits=9):\n",
    "    \"\"\" Print and compare values of custom and library functions using given precision. \"\"\"\n",
    "    m_fn = fn(y_true=y_true, y_pred=y_pred)\n",
    "    m_fn_lib = fn_lib(y_true=y_true, y_pred=y_pred)\n",
    "    print(f'{fn.__name__} custom : {m_fn}')\n",
    "    print(f'{fn.__name__} library: {m_fn_lib}')\n",
    "    print()\n",
    "    assert round(m_fn, n_digits) == round(m_fn_lib, n_digits)"
   ]
  },
  {
   "cell_type": "code",
   "execution_count": null,
   "id": "e80303ab",
   "metadata": {},
   "outputs": [],
   "source": []
  },
  {
   "cell_type": "markdown",
   "id": "4c5432a3",
   "metadata": {},
   "source": [
    "#### a case with a good fit"
   ]
  },
  {
   "cell_type": "code",
   "execution_count": 25,
   "id": "4143760c",
   "metadata": {
    "ExecuteTime": {
     "end_time": "2022-02-05T15:50:30.136424Z",
     "start_time": "2022-02-05T15:50:29.965777Z"
    }
   },
   "outputs": [
    {
     "data": {
      "text/plain": [
       "<matplotlib.legend.Legend at 0x26195711dc0>"
      ]
     },
     "execution_count": 25,
     "metadata": {},
     "output_type": "execute_result"
    },
    {
     "data": {
      "image/png": "[encoded data removed]",
      "text/plain": [
       "<Figure size 504x432 with 1 Axes>"
      ]
     },
     "metadata": {},
     "output_type": "display_data"
    }
   ],
   "source": [
    "n = 30\n",
    "x = np.arange(n)\n",
    "y_true = 2 * x + 3 + np.random.normal(loc=0, scale=2, size=n)\n",
    "y_pred = 2 * x + 3\n",
    "\n",
    "plt.plot(x, y_true, label='y_true')\n",
    "plt.plot(x, y_pred, label='y_pred')\n",
    "plt.legend()"
   ]
  },
  {
   "cell_type": "code",
   "execution_count": 26,
   "id": "7a6c0bdf",
   "metadata": {
    "ExecuteTime": {
     "end_time": "2022-02-05T15:50:30.152383Z",
     "start_time": "2022-02-05T15:50:30.138337Z"
    }
   },
   "outputs": [
    {
     "name": "stdout",
     "output_type": "stream",
     "text": [
      "mse custom : 4.1645375054227625\n",
      "mse library: 4.1645375054227625\n",
      "\n",
      "mae custom : 1.6492116022638466\n",
      "mae library: 1.6492116022638468\n",
      "\n",
      "mape custom : 0.20630764622361275\n",
      "mape library: 0.20630764622361275\n",
      "\n",
      "r2 custom : 0.9853237344880088\n",
      "r2 library: 0.9853237344880088\n",
      "\n",
      "all tests passed\n"
     ]
    }
   ],
   "source": [
    "compare_metrics(mse, mse_lib, y_true=y_true, y_pred=y_pred)\n",
    "compare_metrics(mae, mae_lib, y_true=y_true, y_pred=y_pred)\n",
    "compare_metrics(mape, mape_lib, y_true=y_true, y_pred=y_pred)\n",
    "compare_metrics(r2, r2_lib, y_true=y_true, y_pred=y_pred)\n",
    "print('all tests passed')"
   ]
  },
  {
   "cell_type": "code",
   "execution_count": null,
   "id": "8c599070",
   "metadata": {},
   "outputs": [],
   "source": []
  },
  {
   "cell_type": "markdown",
   "id": "71df28e2",
   "metadata": {},
   "source": [
    "#### 0s in target. MAPE should explode"
   ]
  },
  {
   "cell_type": "code",
   "execution_count": 27,
   "id": "9ee51a13",
   "metadata": {
    "ExecuteTime": {
     "end_time": "2022-02-05T15:50:30.341643Z",
     "start_time": "2022-02-05T15:50:30.154274Z"
    }
   },
   "outputs": [
    {
     "data": {
      "image/png": "[encoded data removed]",
      "text/plain": [
       "<Figure size 504x432 with 1 Axes>"
      ]
     },
     "metadata": {},
     "output_type": "display_data"
    }
   ],
   "source": [
    "n = 30\n",
    "x = np.arange(n)\n",
    "y_true = 2 * x + 3 + np.random.normal(loc=0, scale=2, size=n)\n",
    "y_true[:7] = 0\n",
    "y_pred = 2 * x + 3\n",
    "\n",
    "plt.plot(x, y_true, label='y_true')\n",
    "plt.plot(x, y_pred, label='y_pred')\n",
    "plt.legend();"
   ]
  },
  {
   "cell_type": "code",
   "execution_count": 29,
   "id": "5cc75a55",
   "metadata": {
    "ExecuteTime": {
     "end_time": "2022-02-05T15:50:30.357566Z",
     "start_time": "2022-02-05T15:50:30.343441Z"
    }
   },
   "outputs": [
    {
     "name": "stdout",
     "output_type": "stream",
     "text": [
      "mse custom : 25.425202644276396\n",
      "mse library: 25.425202644276396\n",
      "\n",
      "mae custom : 3.25129796186696\n",
      "mae library: 3.25129796186696\n",
      "\n",
      "mape custom : inf\n",
      "mape library: 9457559217478042.0\n",
      "\n"
     ]
    },
    {
     "name": "stderr",
     "output_type": "stream",
     "text": [
      "C:\\Users\\u.username\\AppData\\Local\\Temp\\ipykernel_21896\\366261831.py:15: RuntimeWarning: divide by zero encountered in true_divide\n",
      "  return (sum(abs(y_true-y_pred)/y_true))/len(y_pred)\n"
     ]
    },
    {
     "ename": "AssertionError",
     "evalue": "",
     "output_type": "error",
     "traceback": [
      "\u001b[1;31m---------------------------------------------------------------------------\u001b[0m",
      "\u001b[1;31mAssertionError\u001b[0m                            Traceback (most recent call last)",
      "\u001b[1;32md:\\GIT\\ml-intro-1\\3_linear_regression\\linear_regression.ipynb Cell 54'\u001b[0m in \u001b[0;36m<module>\u001b[1;34m\u001b[0m\n\u001b[0;32m      <a href='vscode-notebook-cell:/d%3A/GIT/ml-intro-1/3_linear_regression/linear_regression.ipynb#ch0000053?line=0'>1</a>\u001b[0m compare_metrics(mse, mse_lib, y_true\u001b[39m=\u001b[39my_true, y_pred\u001b[39m=\u001b[39my_pred)\n\u001b[0;32m      <a href='vscode-notebook-cell:/d%3A/GIT/ml-intro-1/3_linear_regression/linear_regression.ipynb#ch0000053?line=1'>2</a>\u001b[0m compare_metrics(mae, mae_lib, y_true\u001b[39m=\u001b[39my_true, y_pred\u001b[39m=\u001b[39my_pred)\n\u001b[1;32m----> <a href='vscode-notebook-cell:/d%3A/GIT/ml-intro-1/3_linear_regression/linear_regression.ipynb#ch0000053?line=2'>3</a>\u001b[0m compare_metrics(mape, mape_lib, y_true\u001b[39m=\u001b[39;49my_true, y_pred\u001b[39m=\u001b[39;49my_pred)\n\u001b[0;32m      <a href='vscode-notebook-cell:/d%3A/GIT/ml-intro-1/3_linear_regression/linear_regression.ipynb#ch0000053?line=3'>4</a>\u001b[0m compare_metrics(r2, r2_lib, y_true\u001b[39m=\u001b[39my_true, y_pred\u001b[39m=\u001b[39my_pred)\n\u001b[0;32m      <a href='vscode-notebook-cell:/d%3A/GIT/ml-intro-1/3_linear_regression/linear_regression.ipynb#ch0000053?line=4'>5</a>\u001b[0m \u001b[39mprint\u001b[39m(\u001b[39m'\u001b[39m\u001b[39mall tests passed\u001b[39m\u001b[39m'\u001b[39m)\n",
      "\u001b[1;32md:\\GIT\\ml-intro-1\\3_linear_regression\\linear_regression.ipynb Cell 46'\u001b[0m in \u001b[0;36mcompare_metrics\u001b[1;34m(fn, fn_lib, y_true, y_pred, n_digits)\u001b[0m\n\u001b[0;32m      <a href='vscode-notebook-cell:/d%3A/GIT/ml-intro-1/3_linear_regression/linear_regression.ipynb#ch0000045?line=5'>6</a>\u001b[0m \u001b[39mprint\u001b[39m(\u001b[39mf\u001b[39m\u001b[39m'\u001b[39m\u001b[39m{\u001b[39;00mfn\u001b[39m.\u001b[39m\u001b[39m__name__\u001b[39m\u001b[39m}\u001b[39;00m\u001b[39m library: \u001b[39m\u001b[39m{\u001b[39;00mm_fn_lib\u001b[39m}\u001b[39;00m\u001b[39m'\u001b[39m)\n\u001b[0;32m      <a href='vscode-notebook-cell:/d%3A/GIT/ml-intro-1/3_linear_regression/linear_regression.ipynb#ch0000045?line=6'>7</a>\u001b[0m \u001b[39mprint\u001b[39m()\n\u001b[1;32m----> <a href='vscode-notebook-cell:/d%3A/GIT/ml-intro-1/3_linear_regression/linear_regression.ipynb#ch0000045?line=7'>8</a>\u001b[0m \u001b[39massert\u001b[39;00m \u001b[39mround\u001b[39m(m_fn, n_digits) \u001b[39m==\u001b[39m \u001b[39mround\u001b[39m(m_fn_lib, n_digits)\n",
      "\u001b[1;31mAssertionError\u001b[0m: "
     ]
    }
   ],
   "source": [
    "compare_metrics(mse, mse_lib, y_true=y_true, y_pred=y_pred)\n",
    "compare_metrics(mae, mae_lib, y_true=y_true, y_pred=y_pred)\n",
    "compare_metrics(mape, mape_lib, y_true=y_true, y_pred=y_pred)\n",
    "compare_metrics(r2, r2_lib, y_true=y_true, y_pred=y_pred)\n",
    "print('all tests passed')"
   ]
  },
  {
   "cell_type": "code",
   "execution_count": null,
   "id": "b0175bee",
   "metadata": {},
   "outputs": [],
   "source": []
  },
  {
   "cell_type": "markdown",
   "id": "0e6b9bf9",
   "metadata": {},
   "source": [
    "#### edge cases for R2"
   ]
  },
  {
   "cell_type": "code",
   "execution_count": 30,
   "id": "71d367c2",
   "metadata": {
    "ExecuteTime": {
     "end_time": "2022-02-05T15:50:30.372953Z",
     "start_time": "2022-02-05T15:50:30.359888Z"
    }
   },
   "outputs": [
    {
     "name": "stdout",
     "output_type": "stream",
     "text": [
      "r2 custom : -inf\n",
      "r2 library: 0.0\n",
      "\n"
     ]
    },
    {
     "name": "stderr",
     "output_type": "stream",
     "text": [
      "C:\\Users\\u.username\\AppData\\Local\\Temp\\ipykernel_21896\\366261831.py:21: RuntimeWarning: divide by zero encountered in true_divide\n",
      "  r2=1-SS_res/SS_tot\n"
     ]
    },
    {
     "ename": "AssertionError",
     "evalue": "",
     "output_type": "error",
     "traceback": [
      "\u001b[1;31m---------------------------------------------------------------------------\u001b[0m",
      "\u001b[1;31mAssertionError\u001b[0m                            Traceback (most recent call last)",
      "\u001b[1;32md:\\GIT\\ml-intro-1\\3_linear_regression\\linear_regression.ipynb Cell 57'\u001b[0m in \u001b[0;36m<module>\u001b[1;34m\u001b[0m\n\u001b[0;32m      <a href='vscode-notebook-cell:/d%3A/GIT/ml-intro-1/3_linear_regression/linear_regression.ipynb#ch0000056?line=4'>5</a>\u001b[0m y_true \u001b[39m=\u001b[39m np\u001b[39m.\u001b[39mrepeat(\u001b[39m15\u001b[39m, n)\n\u001b[0;32m      <a href='vscode-notebook-cell:/d%3A/GIT/ml-intro-1/3_linear_regression/linear_regression.ipynb#ch0000056?line=5'>6</a>\u001b[0m y_pred \u001b[39m=\u001b[39m \u001b[39m2\u001b[39m \u001b[39m*\u001b[39m x \u001b[39m+\u001b[39m \u001b[39m3\u001b[39m\n\u001b[1;32m----> <a href='vscode-notebook-cell:/d%3A/GIT/ml-intro-1/3_linear_regression/linear_regression.ipynb#ch0000056?line=7'>8</a>\u001b[0m compare_metrics(r2, r2_lib, y_true\u001b[39m=\u001b[39;49my_true, y_pred\u001b[39m=\u001b[39;49my_pred)\n\u001b[0;32m      <a href='vscode-notebook-cell:/d%3A/GIT/ml-intro-1/3_linear_regression/linear_regression.ipynb#ch0000056?line=8'>9</a>\u001b[0m \u001b[39mprint\u001b[39m(\u001b[39m'\u001b[39m\u001b[39msuccess\u001b[39m\u001b[39m'\u001b[39m)\n",
      "\u001b[1;32md:\\GIT\\ml-intro-1\\3_linear_regression\\linear_regression.ipynb Cell 46'\u001b[0m in \u001b[0;36mcompare_metrics\u001b[1;34m(fn, fn_lib, y_true, y_pred, n_digits)\u001b[0m\n\u001b[0;32m      <a href='vscode-notebook-cell:/d%3A/GIT/ml-intro-1/3_linear_regression/linear_regression.ipynb#ch0000045?line=5'>6</a>\u001b[0m \u001b[39mprint\u001b[39m(\u001b[39mf\u001b[39m\u001b[39m'\u001b[39m\u001b[39m{\u001b[39;00mfn\u001b[39m.\u001b[39m\u001b[39m__name__\u001b[39m\u001b[39m}\u001b[39;00m\u001b[39m library: \u001b[39m\u001b[39m{\u001b[39;00mm_fn_lib\u001b[39m}\u001b[39;00m\u001b[39m'\u001b[39m)\n\u001b[0;32m      <a href='vscode-notebook-cell:/d%3A/GIT/ml-intro-1/3_linear_regression/linear_regression.ipynb#ch0000045?line=6'>7</a>\u001b[0m \u001b[39mprint\u001b[39m()\n\u001b[1;32m----> <a href='vscode-notebook-cell:/d%3A/GIT/ml-intro-1/3_linear_regression/linear_regression.ipynb#ch0000045?line=7'>8</a>\u001b[0m \u001b[39massert\u001b[39;00m \u001b[39mround\u001b[39m(m_fn, n_digits) \u001b[39m==\u001b[39m \u001b[39mround\u001b[39m(m_fn_lib, n_digits)\n",
      "\u001b[1;31mAssertionError\u001b[0m: "
     ]
    }
   ],
   "source": [
    "# constant target value\n",
    "\n",
    "n = 30\n",
    "x = np.arange(n)\n",
    "y_true = np.repeat(15, n)\n",
    "y_pred = 2 * x + 3\n",
    "\n",
    "compare_metrics(r2, r2_lib, y_true=y_true, y_pred=y_pred)\n",
    "print('success')"
   ]
  },
  {
   "cell_type": "code",
   "execution_count": 31,
   "id": "de67f715",
   "metadata": {
    "ExecuteTime": {
     "end_time": "2022-02-05T15:50:30.388956Z",
     "start_time": "2022-02-05T15:50:30.374956Z"
    }
   },
   "outputs": [
    {
     "name": "stdout",
     "output_type": "stream",
     "text": [
      "r2 custom : 1.0\n",
      "r2 library: 1.0\n",
      "\n",
      "success\n"
     ]
    }
   ],
   "source": [
    "# perfect fit\n",
    "\n",
    "n = 30\n",
    "x = np.arange(n)\n",
    "y_true = 2 * x + 3 + np.random.normal(loc=0, scale=2, size=n)\n",
    "y_pred = y_true\n",
    "\n",
    "compare_metrics(r2, r2_lib, y_true=y_true, y_pred=y_pred)\n",
    "print('success')"
   ]
  },
  {
   "cell_type": "code",
   "execution_count": null,
   "id": "344214b1",
   "metadata": {},
   "outputs": [],
   "source": []
  },
  {
   "cell_type": "code",
   "execution_count": null,
   "id": "b8ac78c4",
   "metadata": {},
   "outputs": [],
   "source": []
  },
  {
   "cell_type": "markdown",
   "id": "b3a027b5",
   "metadata": {},
   "source": [
    "### Define helper functions"
   ]
  },
  {
   "cell_type": "code",
   "execution_count": 32,
   "id": "7950b67c",
   "metadata": {
    "ExecuteTime": {
     "end_time": "2022-02-05T15:50:30.404958Z",
     "start_time": "2022-02-05T15:50:30.389956Z"
    }
   },
   "outputs": [],
   "source": [
    "def get_metrics(*, y_true, y_pred) -> pd.Series:\n",
    "    \"\"\" A helper function to return all metrics for given labels and predictions. \"\"\"\n",
    "    \n",
    "    # if you didn't implement some metrics, comment them out for this function to work.\n",
    "    return pd.Series({\n",
    "        'mse': mse(y_true=y_true, y_pred=y_pred),\n",
    "        'mae': mae(y_true=y_true, y_pred=y_pred),\n",
    "        'mape': mape(y_true=y_true, y_pred=y_pred),\n",
    "        'r2': r2(y_true=y_true, y_pred=y_pred),\n",
    "    })"
   ]
  },
  {
   "cell_type": "code",
   "execution_count": 33,
   "id": "15991501",
   "metadata": {
    "ExecuteTime": {
     "end_time": "2022-02-05T15:50:30.420955Z",
     "start_time": "2022-02-05T15:50:30.406959Z"
    }
   },
   "outputs": [],
   "source": [
    "def fit_and_evaluate(model, x_train, y_train, x_test, y_test) -> pd.DataFrame:\n",
    "    \"\"\" \n",
    "    A helper function to: \n",
    "    * fit a passed model\n",
    "    * and return metrics on train and test sets.\n",
    "    \"\"\"\n",
    "    # fit the model\n",
    "    model.fit(x_train, y_train)\n",
    "    \n",
    "    # return metrics as pd.DataFrame\n",
    "    m = pd.DataFrame([\n",
    "        get_metrics(y_true=y_train, y_pred=model.predict(x_train)),  # metrics for train set\n",
    "        get_metrics(y_true=y_test, y_pred=model.predict(x_test))     # metrics for test set\n",
    "    ], index=['train', 'test']\n",
    "    )\n",
    "    \n",
    "    return m"
   ]
  },
  {
   "cell_type": "code",
   "execution_count": null,
   "id": "ac20b65c",
   "metadata": {},
   "outputs": [],
   "source": []
  },
  {
   "cell_type": "code",
   "execution_count": null,
   "id": "de31e0d2",
   "metadata": {},
   "outputs": [],
   "source": []
  },
  {
   "cell_type": "markdown",
   "id": "e1a9496f",
   "metadata": {},
   "source": [
    "## train/test split\n",
    "\n",
    "* Split the data we have into Train and Test splits with 80%/20% proportion"
   ]
  },
  {
   "cell_type": "code",
   "execution_count": 35,
   "id": "0cbdf81b",
   "metadata": {
    "ExecuteTime": {
     "end_time": "2022-02-05T15:50:30.436855Z",
     "start_time": "2022-02-05T15:50:30.422956Z"
    }
   },
   "outputs": [
    {
     "name": "stdout",
     "output_type": "stream",
     "text": [
      "(10582, 35)\n",
      "(8465, 35) (2117, 35)\n"
     ]
    }
   ],
   "source": [
    "print(df.shape)\n",
    "ix_split = int(0.8 * df.shape[0])\n",
    "DF_TRAIN = df.iloc[:ix_split].copy()\n",
    "DF_TEST = df.iloc[ix_split:].copy()\n",
    "print(DF_TRAIN.shape, DF_TEST.shape)"
   ]
  },
  {
   "cell_type": "code",
   "execution_count": 36,
   "id": "4c36f2fe",
   "metadata": {
    "ExecuteTime": {
     "end_time": "2022-02-05T15:50:30.452547Z",
     "start_time": "2022-02-05T15:50:30.438523Z"
    }
   },
   "outputs": [],
   "source": [
    "def get_train_test_data(features: List[str], target: str) -> tuple:\n",
    "    \"\"\"\n",
    "    Return x_train, y_train, x_test, y_test using \n",
    "    * global train/test split \n",
    "    * features and target provided.\n",
    "    \"\"\"\n",
    "    # in general, it's a bad practice to use global variables. \n",
    "    # however, we use it here with caution for simplicity.\n",
    "    return (\n",
    "        DF_TRAIN[features].copy(), DF_TRAIN[target].copy(), \n",
    "        DF_TEST[features].copy(), DF_TEST[target].copy()\n",
    "    )"
   ]
  },
  {
   "cell_type": "code",
   "execution_count": null,
   "id": "b61b9afd",
   "metadata": {},
   "outputs": [],
   "source": []
  },
  {
   "cell_type": "code",
   "execution_count": null,
   "id": "12f81654",
   "metadata": {},
   "outputs": [],
   "source": []
  },
  {
   "cell_type": "markdown",
   "id": "7683d845",
   "metadata": {},
   "source": [
    "## Linear regression with 1 variable\n",
    "\n",
    "* Let's start with Linear Regression that predicts target variable \n",
    "  using only 1 predictor (independent variable)  \n",
    "\n",
    "* We will try to predict `dribbling` variable using `short_passing` as a predictor"
   ]
  },
  {
   "cell_type": "code",
   "execution_count": 37,
   "id": "5a994986",
   "metadata": {
    "ExecuteTime": {
     "end_time": "2022-02-05T15:50:30.468403Z",
     "start_time": "2022-02-05T15:50:30.454412Z"
    }
   },
   "outputs": [],
   "source": [
    "target = 'dribbling'\n",
    "features = ['short_passing']\n",
    "x_train, y_train, x_test, y_test = get_train_test_data(features, target)"
   ]
  },
  {
   "cell_type": "code",
   "execution_count": null,
   "id": "c41d6aa2",
   "metadata": {},
   "outputs": [],
   "source": []
  },
  {
   "cell_type": "markdown",
   "id": "48e18ded",
   "metadata": {},
   "source": [
    "### Let's visualize our data first"
   ]
  },
  {
   "cell_type": "code",
   "execution_count": 38,
   "id": "0b93c143",
   "metadata": {
    "ExecuteTime": {
     "end_time": "2022-02-05T15:50:30.625760Z",
     "start_time": "2022-02-05T15:50:30.472404Z"
    }
   },
   "outputs": [
    {
     "data": {
      "text/plain": [
       "Text(0, 0.5, 'dribbling')"
      ]
     },
     "execution_count": 38,
     "metadata": {},
     "output_type": "execute_result"
    },
    {
     "data": {
      "image/png": "[encoded data removed]",
      "text/plain": [
       "<Figure size 504x432 with 1 Axes>"
      ]
     },
     "metadata": {},
     "output_type": "display_data"
    }
   ],
   "source": [
    "plt.scatter(x=x_train, y=y_train, alpha=0.3, s=10)\n",
    "plt.xlabel('short_passing')\n",
    "plt.ylabel('dribbling')"
   ]
  },
  {
   "cell_type": "markdown",
   "id": "c8370e35",
   "metadata": {},
   "source": [
    "* do you notice anything interesting on this plot?\n",
    "* if so, how can we use it later to generate more accurate predictions?"
   ]
  },
  {
   "cell_type": "code",
   "execution_count": null,
   "id": "0bcd9167",
   "metadata": {},
   "outputs": [],
   "source": []
  },
  {
   "cell_type": "markdown",
   "id": "3a54c9f1",
   "metadata": {},
   "source": [
    "### Task 4. Compute Pearson correlation coefficient between feature and target (1 pont)\n",
    "Hint: you can use either `pd.Series.corr` method or `np.corrcoef` function"
   ]
  },
  {
   "cell_type": "code",
   "execution_count": 39,
   "id": "2c8dbbf9",
   "metadata": {
    "ExecuteTime": {
     "end_time": "2022-02-05T15:50:30.641483Z",
     "start_time": "2022-02-05T15:50:30.627267Z"
    }
   },
   "outputs": [
    {
     "data": {
      "text/plain": [
       "0.8129375578604553"
      ]
     },
     "execution_count": 39,
     "metadata": {},
     "output_type": "execute_result"
    }
   ],
   "source": [
    "corr=pd.Series.corr(df.short_passing,df.dribbling)\n",
    "corr"
   ]
  },
  {
   "cell_type": "code",
   "execution_count": null,
   "id": "9f8901a8",
   "metadata": {},
   "outputs": [],
   "source": []
  },
  {
   "cell_type": "markdown",
   "id": "5bfc53e7",
   "metadata": {},
   "source": [
    "### Solve using `sklearn`\n",
    "\n",
    "* we will use `LinearRegression` class from `sklearn` library \n",
    "  to fit a linear regression model and use it to generate prediction"
   ]
  },
  {
   "cell_type": "code",
   "execution_count": 40,
   "id": "2fbf12ca",
   "metadata": {
    "ExecuteTime": {
     "end_time": "2022-02-05T15:50:30.750756Z",
     "start_time": "2022-02-05T15:50:30.704711Z"
    }
   },
   "outputs": [],
   "source": [
    "from sklearn.linear_model import LinearRegression"
   ]
  },
  {
   "cell_type": "code",
   "execution_count": 41,
   "id": "1c2b5644",
   "metadata": {
    "ExecuteTime": {
     "end_time": "2022-02-05T15:50:30.765995Z",
     "start_time": "2022-02-05T15:50:30.752757Z"
    }
   },
   "outputs": [],
   "source": [
    "model = LinearRegression(fit_intercept=True)\n",
    "model.fit(x_train, y_train);"
   ]
  },
  {
   "cell_type": "markdown",
   "id": "9b17b843",
   "metadata": {},
   "source": [
    "* explore fitted model parameters"
   ]
  },
  {
   "cell_type": "code",
   "execution_count": 42,
   "id": "787afdfd",
   "metadata": {
    "ExecuteTime": {
     "end_time": "2022-02-05T15:50:30.781716Z",
     "start_time": "2022-02-05T15:50:30.768504Z"
    }
   },
   "outputs": [
    {
     "name": "stdout",
     "output_type": "stream",
     "text": [
      "model_intercept: -7.374022601146123\n",
      "model_slope: 1.06003725058923\n"
     ]
    }
   ],
   "source": [
    "model_intercept = model.intercept_\n",
    "model_slope = model.coef_[0]\n",
    "print(f'model_intercept: {model_intercept}')\n",
    "print(f'model_slope: {model_slope}')"
   ]
  },
  {
   "cell_type": "markdown",
   "id": "0d9f36d4",
   "metadata": {},
   "source": [
    "* use fitted model to get predictions for test set"
   ]
  },
  {
   "cell_type": "code",
   "execution_count": 43,
   "id": "6e7f42c8",
   "metadata": {
    "ExecuteTime": {
     "end_time": "2022-02-05T15:50:30.796860Z",
     "start_time": "2022-02-05T15:50:30.783228Z"
    }
   },
   "outputs": [
    {
     "data": {
      "text/plain": [
       "array([41.38769093, 58.34828694, 63.64847319, ..., 49.86798893,\n",
       "       55.16817518, 60.46836144])"
      ]
     },
     "execution_count": 43,
     "metadata": {},
     "output_type": "execute_result"
    }
   ],
   "source": [
    "model_preds = model.predict(x_test)\n",
    "model_preds"
   ]
  },
  {
   "cell_type": "markdown",
   "id": "b7be936e",
   "metadata": {},
   "source": [
    "* explore model quality on test set."
   ]
  },
  {
   "cell_type": "code",
   "execution_count": 44,
   "id": "0d7918e8",
   "metadata": {
    "ExecuteTime": {
     "end_time": "2022-02-05T15:50:30.859941Z",
     "start_time": "2022-02-05T15:50:30.849075Z"
    }
   },
   "outputs": [
    {
     "name": "stdout",
     "output_type": "stream",
     "text": [
      "model metrics on test set\n"
     ]
    },
    {
     "data": {
      "text/plain": [
       "mse     117.706730\n",
       "mae       8.436945\n",
       "mape      0.219265\n",
       "r2        0.584043\n",
       "dtype: float64"
      ]
     },
     "execution_count": 44,
     "metadata": {},
     "output_type": "execute_result"
    }
   ],
   "source": [
    "print('model metrics on test set')\n",
    "metrics_test_1 = get_metrics(y_true=y_test, y_pred=model_preds)\n",
    "metrics_test_1"
   ]
  },
  {
   "cell_type": "markdown",
   "id": "00e37652",
   "metadata": {},
   "source": [
    "* can you explain what those metic values mean?"
   ]
  },
  {
   "cell_type": "code",
   "execution_count": null,
   "id": "35ae5f55",
   "metadata": {},
   "outputs": [],
   "source": []
  },
  {
   "cell_type": "markdown",
   "id": "02c4c46f",
   "metadata": {},
   "source": [
    "#### Task 5. Calculate predictions for test set manually (1 point)\n",
    "\n",
    "Above we used `LinearRegression.predict()` method to obtain predictions. \n",
    "Now let's do it manually!\n",
    "\n",
    "Recall Linear Regression formula:\n",
    "\n",
    "* $ \\hat{y} = w_0 + w_1 \\cdot x, $ \n",
    "\n",
    "    where:\n",
    "    * $w_0$ is an intercept\n",
    "    * $w_1$ is a slope\n",
    "    * $x$ is a predictor\n",
    "    * $\\hat{y}$ is a predicted variable\n",
    "  \n",
    "\n",
    "* use intercept and slope values from fitted LinearRegression model"
   ]
  },
  {
   "cell_type": "code",
   "execution_count": 45,
   "id": "318b9e5a",
   "metadata": {
    "ExecuteTime": {
     "end_time": "2022-02-05T15:50:31.109063Z",
     "start_time": "2022-02-05T15:50:31.097327Z"
    }
   },
   "outputs": [],
   "source": [
    "# use `x_test` for calculations as is (it's a DataFrame with 1 column).\n",
    "# do not convert it to Series or numpy array.\n",
    "\n",
    "# your code here:\n",
    "model_manual_preds = -7.374022601146123+1.06003725058923*x_test"
   ]
  },
  {
   "cell_type": "code",
   "execution_count": 46,
   "id": "a8a85aa2",
   "metadata": {
    "ExecuteTime": {
     "end_time": "2022-02-05T15:50:31.169787Z",
     "start_time": "2022-02-05T15:50:31.156073Z"
    }
   },
   "outputs": [],
   "source": [
    "assert isinstance(model_manual_preds, pd.DataFrame)"
   ]
  },
  {
   "cell_type": "code",
   "execution_count": 47,
   "id": "33e827e8",
   "metadata": {
    "ExecuteTime": {
     "end_time": "2022-02-05T15:50:31.185196Z",
     "start_time": "2022-02-05T15:50:31.171743Z"
    }
   },
   "outputs": [
    {
     "name": "stdout",
     "output_type": "stream",
     "text": [
      "success\n"
     ]
    }
   ],
   "source": [
    "# ensure our manual predictions are the same as model generated\n",
    "assert np.allclose(model_preds, model_manual_preds.iloc[:, 0].to_numpy())\n",
    "print('success')"
   ]
  },
  {
   "cell_type": "code",
   "execution_count": null,
   "id": "e6688081",
   "metadata": {},
   "outputs": [],
   "source": []
  },
  {
   "cell_type": "markdown",
   "id": "fdbca547",
   "metadata": {},
   "source": [
    "#### Task 6. Plot test data and predicted values (1 point)\n",
    "\n",
    "* use `plt.scatter` function as in example above.\n",
    "* first build scatter plot for test data\n",
    "* then build scatter plot with model predictions\n",
    "* add plot title, axis names and legend\n",
    "\n",
    "Hints:\n",
    "* use `alpha` parameter to control opacity and `s` parameter to control size of points.\n",
    "  this will make plot more readable\n",
    "* use `label` parameter to add label to each set of points added to scatter plot\n",
    "* use different color for model predictions. control with parameter `color`"
   ]
  },
  {
   "cell_type": "code",
   "execution_count": 48,
   "id": "55948801",
   "metadata": {
    "ExecuteTime": {
     "end_time": "2022-02-05T15:50:31.248662Z",
     "start_time": "2022-02-05T15:50:31.242488Z"
    }
   },
   "outputs": [
    {
     "data": {
      "image/png": "[encoded data removed]",
      "text/plain": [
       "<Figure size 504x432 with 1 Axes>"
      ]
     },
     "metadata": {},
     "output_type": "display_data"
    }
   ],
   "source": [
    "# # your code here\n",
    "plt.scatter(x_test, y_test, label='Test data')\n",
    "plt.scatter(x_test,model_preds,label='Model data')\n",
    "plt.legend();  # adds legend to a plot"
   ]
  },
  {
   "cell_type": "code",
   "execution_count": null,
   "id": "86e69689",
   "metadata": {},
   "outputs": [],
   "source": []
  },
  {
   "cell_type": "code",
   "execution_count": null,
   "id": "d5086aa8",
   "metadata": {},
   "outputs": [],
   "source": []
  },
  {
   "cell_type": "markdown",
   "id": "2073b4aa",
   "metadata": {
    "ExecuteTime": {
     "end_time": "2022-02-02T18:04:08.699161Z",
     "start_time": "2022-02-02T18:04:08.686331Z"
    }
   },
   "source": [
    "### Task 7.  Fit regression model manually (3 points)"
   ]
  },
  {
   "cell_type": "markdown",
   "id": "f3e0a350",
   "metadata": {
    "ExecuteTime": {
     "end_time": "2022-02-02T18:04:08.699161Z",
     "start_time": "2022-02-02T18:04:08.686331Z"
    }
   },
   "source": [
    "So far we have used `sklearn` library to fit linear regression model and obtain predictions. Good job!\n",
    "\n",
    "Recall the formula of Linear regression for 1 variable:\n",
    "\n",
    "* $ \\hat{y} = w_0 + w_1 \\cdot x $\n",
    "\n",
    "Now let's try to fit the model **ourselves**."
   ]
  },
  {
   "cell_type": "markdown",
   "id": "e16e3b73",
   "metadata": {
    "ExecuteTime": {
     "end_time": "2022-02-02T18:04:08.699161Z",
     "start_time": "2022-02-02T18:04:08.686331Z"
    }
   },
   "source": [
    "### Theory\n",
    "\n",
    "Assume our dataset consists of _n_ samples.\n",
    "\n",
    "To fit a Linear regression model means to find the best set of parameters - \n",
    "$(w_0, w_1)$ that minimizes a **Loss function**.<br>\n",
    "In case of Linear regression we choose **Residual sum of squares (RSS)** as a Loss function:\n",
    "\n",
    "* $ L(w, x, y) = RSS(w, x, y) = \\sum_{i=0}^{n-1} (y_i - \\hat{y}_i ) ^ 2 \\rightarrow min $\n",
    "\n",
    "That is conceptually the same as minimizing Mean squared error (MSE):\n",
    "\n",
    "* $ MSE(w, x, y) = \\dfrac{1}{n} \\sum_{i=0}^{n-1} (y_i - \\hat{y}_i ) ^ 2 \\rightarrow min $\n",
    "\n",
    "Here:\n",
    "* $y = (y_0, y_2, ..., y_{n-1}) $ - is a vector of target values we want to predict.\n",
    "  1 value per each sample in our dataset that consists of _n_ samples\n",
    "* $\\hat{y} = (\\hat{y}_0, \\hat{y}_2, ..., \\hat{y}_{n-1}) $ - is a vector of predictions \n",
    "* $\\hat{y}_i = w_0 + w_1 \\cdot x_i$ - is an individual prediction for _i_-th sample in a dataset\n",
    "\n",
    "---\n",
    "\n",
    "Best parameters $w_0$ and $w_1$ can be found using **following formulas**:\n",
    "\n",
    "* $w_0 = \\bar{y} - w_1 \\cdot \\bar{x}$\n",
    "\n",
    "\n",
    "* $w_1 = \\dfrac{\\sum_{i=0}^{n-1}(x_i - \\bar{x}) y_i}{\\sum_{i=0}^{n-1}(x_i - \\bar{x})^2}$\n",
    "\n",
    "\n",
    "* where:\n",
    " * $\\bar{x} = \\dfrac{1}{n} \\sum_{i=0}^{n-1}x_i$ - is the mean of vector $x$\n",
    " \n",
    " * $\\bar{y} = \\dfrac{1}{n} \\sum_{i=0}^{n-1}y_i$ - is the mean of vector $y$\n",
    " \n",
    "You should use these formulas to find the best model parameters in this task.\n",
    " \n",
    "---\n",
    "\n",
    "If you want to learn more you can refer to \n",
    "[Simple linear regression](https://en.wikipedia.org/wiki/Simple_linear_regression) wiki-page.\n",
    "\n",
    "It contains analagous formula for $w_1$ coefficient that is conceptually the same \n",
    "(so it's not a bug in our formula provided above)."
   ]
  },
  {
   "cell_type": "code",
   "execution_count": null,
   "id": "53890a5b",
   "metadata": {},
   "outputs": [],
   "source": []
  },
  {
   "cell_type": "markdown",
   "id": "ed336e62",
   "metadata": {},
   "source": [
    "### Implementation"
   ]
  },
  {
   "cell_type": "markdown",
   "id": "f05805c7",
   "metadata": {},
   "source": [
    "* convert pd.DataFrame and pd.Series (`x_train` and `y_train` respecitvely) to numpy-arrays"
   ]
  },
  {
   "cell_type": "code",
   "execution_count": 49,
   "id": "356ab8ef",
   "metadata": {
    "ExecuteTime": {
     "end_time": "2022-02-05T15:50:31.870582Z",
     "start_time": "2022-02-05T15:50:31.860585Z"
    }
   },
   "outputs": [],
   "source": [
    "x = x_train.iloc[:, 0].to_numpy()\n",
    "y = y_train.to_numpy()"
   ]
  },
  {
   "cell_type": "markdown",
   "id": "cb318274",
   "metadata": {},
   "source": [
    "* calculate model parameters ($w_1$ - slope and $w_0$ - intercept) using formulas given above"
   ]
  },
  {
   "cell_type": "code",
   "execution_count": 50,
   "id": "a788aeb3",
   "metadata": {
    "ExecuteTime": {
     "end_time": "2022-02-05T15:50:31.980524Z",
     "start_time": "2022-02-05T15:50:31.972377Z"
    }
   },
   "outputs": [],
   "source": [
    "# # your code here:\n",
    "x_mean=sum(x)/len(x)\n",
    "y_mean=sum(y)/len(y)\n",
    "manual_slope = sum((x-x_mean)*y)/sum((x-x_mean)**2)\n",
    "manual_intercept = y_mean-manual_slope*x_mean"
   ]
  },
  {
   "cell_type": "code",
   "execution_count": 51,
   "id": "5490c970",
   "metadata": {
    "ExecuteTime": {
     "end_time": "2022-02-05T15:50:32.011182Z",
     "start_time": "2022-02-05T15:50:31.997992Z"
    }
   },
   "outputs": [
    {
     "name": "stdout",
     "output_type": "stream",
     "text": [
      "manual_intercept: -7.374022601145967\n",
      "manual_slope: 1.0600372505892275\n"
     ]
    }
   ],
   "source": [
    "print(f'manual_intercept: {manual_intercept}')\n",
    "print(f'manual_slope: {manual_slope}')"
   ]
  },
  {
   "cell_type": "code",
   "execution_count": 52,
   "id": "52c37ad6",
   "metadata": {
    "ExecuteTime": {
     "end_time": "2022-02-05T15:50:32.026832Z",
     "start_time": "2022-02-05T15:50:32.015585Z"
    }
   },
   "outputs": [
    {
     "name": "stdout",
     "output_type": "stream",
     "text": [
      "success\n"
     ]
    }
   ],
   "source": [
    "assert round(model_intercept, 9) == round(manual_intercept, 9)\n",
    "assert round(model_slope, 9) == round(manual_slope, 9)\n",
    "print('success')"
   ]
  },
  {
   "cell_type": "code",
   "execution_count": null,
   "id": "5f8a3f8d",
   "metadata": {},
   "outputs": [],
   "source": []
  },
  {
   "cell_type": "code",
   "execution_count": null,
   "id": "611bbdf2",
   "metadata": {},
   "outputs": [],
   "source": []
  },
  {
   "cell_type": "markdown",
   "id": "0833765e",
   "metadata": {},
   "source": [
    "## Linear regression with multiple variables\n",
    "\n",
    "* Now let's use Linear Regression model that uses multiple variables\n",
    "\n",
    "* We will try to predict `dribbling` variable using \n",
    "  `['ball_control', 'short_passing', 'strength', 'sprint_speed']` features"
   ]
  },
  {
   "cell_type": "code",
   "execution_count": 53,
   "id": "d5d3f4c5",
   "metadata": {
    "ExecuteTime": {
     "end_time": "2022-02-05T15:50:32.152631Z",
     "start_time": "2022-02-05T15:50:32.128476Z"
    }
   },
   "outputs": [],
   "source": [
    "target = 'dribbling'\n",
    "features = ['ball_control', 'short_passing', 'strength', 'sprint_speed']\n",
    "x_train, y_train, x_test, y_test = get_train_test_data(features, target)"
   ]
  },
  {
   "cell_type": "code",
   "execution_count": null,
   "id": "6da26a4d",
   "metadata": {},
   "outputs": [],
   "source": []
  },
  {
   "cell_type": "markdown",
   "id": "a3844f4d",
   "metadata": {},
   "source": [
    "### Let's explore the data first"
   ]
  },
  {
   "cell_type": "code",
   "execution_count": 54,
   "id": "98f0d68a",
   "metadata": {
    "ExecuteTime": {
     "end_time": "2022-02-05T15:50:32.261634Z",
     "start_time": "2022-02-05T15:50:32.255334Z"
    }
   },
   "outputs": [
    {
     "name": "stdout",
     "output_type": "stream",
     "text": [
      "['ball_control', 'short_passing', 'strength', 'sprint_speed', 'dribbling']\n"
     ]
    }
   ],
   "source": [
    "cols = features + [target]\n",
    "print(cols)"
   ]
  },
  {
   "cell_type": "code",
   "execution_count": null,
   "id": "3467845a",
   "metadata": {},
   "outputs": [],
   "source": []
  },
  {
   "cell_type": "markdown",
   "id": "718f438f",
   "metadata": {},
   "source": [
    "#### Task 8 (1 point)\n",
    "\n",
    "Build pairwise correlation matrix for selected features and target. Visualize it with heatmap.\n",
    "\n",
    "Hints:\n",
    "* use `DF_TRAIN` to build statistics (`x_train` contains only features. target is in `y_train`)\n",
    "* use `pd.DataFrame.corr()` to build correlation matrix\n",
    "* use `sns.heatmap` to build heatmap from correlation matrix. \n",
    "  * use `center` parameter to center your heatmap's colormap at 0\n",
    "  * use diverging colormap (`cmap` parameter)<br>\n",
    "    you can find the list of diverging colormaps\n",
    "    [here](https://matplotlib.org/stable/tutorials/colors/colormaps.html#diverging)<br>\n",
    "    the reason is that we need to easily find both negative and positive correlations.\n",
    "  * use `annot` parameters to add numbers to the plot.\n",
    "* you can print `pd.DataFrame` and build plot in the same cell.<br> \n",
    "  use `display(...)` function that accets `pd.DataFrame` before building the plot\n",
    "  \n",
    "You can refer to [seaborn.heatmap](https://seaborn.pydata.org/generated/seaborn.heatmap.html) documentation"
   ]
  },
  {
   "cell_type": "code",
   "execution_count": 55,
   "id": "7154fafc",
   "metadata": {
    "ExecuteTime": {
     "end_time": "2022-02-05T15:50:32.387597Z",
     "start_time": "2022-02-05T15:50:32.373491Z"
    }
   },
   "outputs": [
    {
     "data": {
      "text/html": [
       "<div>\n",
       "<style scoped>\n",
       "    .dataframe tbody tr th:only-of-type {\n",
       "        vertical-align: middle;\n",
       "    }\n",
       "\n",
       "    .dataframe tbody tr th {\n",
       "        vertical-align: top;\n",
       "    }\n",
       "\n",
       "    .dataframe thead th {\n",
       "        text-align: right;\n",
       "    }\n",
       "</style>\n",
       "<table border=\"1\" class=\"dataframe\">\n",
       "  <thead>\n",
       "    <tr style=\"text-align: right;\">\n",
       "      <th></th>\n",
       "      <th>ball_control</th>\n",
       "      <th>short_passing</th>\n",
       "      <th>strength</th>\n",
       "      <th>sprint_speed</th>\n",
       "    </tr>\n",
       "  </thead>\n",
       "  <tbody>\n",
       "    <tr>\n",
       "      <th>ball_control</th>\n",
       "      <td>1.000000</td>\n",
       "      <td>0.905642</td>\n",
       "      <td>-0.027528</td>\n",
       "      <td>0.573165</td>\n",
       "    </tr>\n",
       "    <tr>\n",
       "      <th>short_passing</th>\n",
       "      <td>0.905642</td>\n",
       "      <td>1.000000</td>\n",
       "      <td>0.032031</td>\n",
       "      <td>0.452852</td>\n",
       "    </tr>\n",
       "    <tr>\n",
       "      <th>strength</th>\n",
       "      <td>-0.027528</td>\n",
       "      <td>0.032031</td>\n",
       "      <td>1.000000</td>\n",
       "      <td>-0.204001</td>\n",
       "    </tr>\n",
       "    <tr>\n",
       "      <th>sprint_speed</th>\n",
       "      <td>0.573165</td>\n",
       "      <td>0.452852</td>\n",
       "      <td>-0.204001</td>\n",
       "      <td>1.000000</td>\n",
       "    </tr>\n",
       "  </tbody>\n",
       "</table>\n",
       "</div>"
      ],
      "text/plain": [
       "               ball_control  short_passing  strength  sprint_speed\n",
       "ball_control       1.000000       0.905642 -0.027528      0.573165\n",
       "short_passing      0.905642       1.000000  0.032031      0.452852\n",
       "strength          -0.027528       0.032031  1.000000     -0.204001\n",
       "sprint_speed       0.573165       0.452852 -0.204001      1.000000"
      ]
     },
     "metadata": {},
     "output_type": "display_data"
    },
    {
     "data": {
      "text/plain": [
       "<AxesSubplot:>"
      ]
     },
     "execution_count": 55,
     "metadata": {},
     "output_type": "execute_result"
    },
    {
     "data": {
      "image/png": "[encoded data removed]",
      "text/plain": [
       "<Figure size 504x432 with 2 Axes>"
      ]
     },
     "metadata": {},
     "output_type": "display_data"
    }
   ],
   "source": [
    "# # your code here\n",
    "correlation_matrix = df[features].corr()\n",
    "display(correlation_matrix)\n",
    "sns.heatmap(correlation_matrix)"
   ]
  },
  {
   "cell_type": "markdown",
   "id": "344d51bf",
   "metadata": {},
   "source": [
    "* what can you say about selected feature set using this correlation matrix?"
   ]
  },
  {
   "cell_type": "code",
   "execution_count": null,
   "id": "60df1074",
   "metadata": {},
   "outputs": [],
   "source": []
  },
  {
   "cell_type": "markdown",
   "id": "2888588a",
   "metadata": {},
   "source": [
    "#### Let's build pairplots for features and target\n",
    "\n",
    "* `plot_kws` parameter accepts dictionary of keyword arguments \n",
    "  that are passed to bivariate plotting function (`sns.scatterplot` in this case)\n",
    "\n",
    "\n",
    "* we set size to 7 (using `s` parameter) to make points smaller and see patterns clearly.<br>\n",
    "  you can compare this to running with not `plot_kws` passed.\n",
    "  \n",
    "\n",
    "* `alpha` parameter also helps to see data distribution clearly\n",
    "\n",
    "\n",
    "* you can also experiment with `kind` parameter - refer to\n",
    "  [seaborn.pairplot](https://seaborn.pydata.org/generated/seaborn.pairplot.html)\n",
    "  documentation for possible values."
   ]
  },
  {
   "cell_type": "code",
   "execution_count": 56,
   "id": "2105e05d",
   "metadata": {
    "ExecuteTime": {
     "end_time": "2022-02-05T15:50:41.364056Z",
     "start_time": "2022-02-05T15:50:32.950842Z"
    }
   },
   "outputs": [
    {
     "data": {
      "text/plain": [
       "<seaborn.axisgrid.PairGrid at 0x261968f8a30>"
      ]
     },
     "execution_count": 56,
     "metadata": {},
     "output_type": "execute_result"
    },
    {
     "data": {
      "image/png": "[encoded data removed]",
      "text/plain": [
       "<Figure size 900x900 with 30 Axes>"
      ]
     },
     "metadata": {},
     "output_type": "display_data"
    }
   ],
   "source": [
    "sns.pairplot(DF_TRAIN[cols], plot_kws={'s': 7, 'alpha': 0.5})"
   ]
  },
  {
   "cell_type": "markdown",
   "id": "47dd6b58",
   "metadata": {},
   "source": [
    "* what can you say about these scatterplots? is there anything we can use later?"
   ]
  },
  {
   "cell_type": "code",
   "execution_count": null,
   "id": "2fc3c18c",
   "metadata": {},
   "outputs": [],
   "source": []
  },
  {
   "cell_type": "code",
   "execution_count": null,
   "id": "aaf83720",
   "metadata": {},
   "outputs": [],
   "source": []
  },
  {
   "cell_type": "markdown",
   "id": "5685be15",
   "metadata": {},
   "source": [
    " ### Solve using `sklearn`"
   ]
  },
  {
   "cell_type": "code",
   "execution_count": 57,
   "id": "656b9de6",
   "metadata": {
    "ExecuteTime": {
     "end_time": "2022-02-05T15:50:41.394842Z",
     "start_time": "2022-02-05T15:50:41.368053Z"
    }
   },
   "outputs": [
    {
     "data": {
      "text/plain": [
       "LinearRegression()"
      ]
     },
     "execution_count": 57,
     "metadata": {},
     "output_type": "execute_result"
    }
   ],
   "source": [
    "model = LinearRegression(fit_intercept=True)\n",
    "model.fit(x_train, y_train)"
   ]
  },
  {
   "cell_type": "code",
   "execution_count": null,
   "id": "44ea3d97",
   "metadata": {},
   "outputs": [],
   "source": []
  },
  {
   "cell_type": "markdown",
   "id": "07f0354b",
   "metadata": {},
   "source": [
    "* explore fitted model parameters"
   ]
  },
  {
   "cell_type": "code",
   "execution_count": 58,
   "id": "f515c8ed",
   "metadata": {
    "ExecuteTime": {
     "end_time": "2022-02-05T15:50:41.410999Z",
     "start_time": "2022-02-05T15:50:41.398344Z"
    }
   },
   "outputs": [
    {
     "name": "stdout",
     "output_type": "stream",
     "text": [
      "model_intercept: -3.7235763435725744\n",
      "model_coef: [ 0.97863882 -0.03598737 -0.15170837  0.20757276]\n"
     ]
    }
   ],
   "source": [
    "model_intercept = model.intercept_\n",
    "model_coef = model.coef_\n",
    "print(f'model_intercept: {model_intercept}')\n",
    "print(f'model_coef: {model_coef}')"
   ]
  },
  {
   "cell_type": "markdown",
   "id": "0e3853fb",
   "metadata": {},
   "source": [
    "* how to interpret these model parameters?"
   ]
  },
  {
   "cell_type": "code",
   "execution_count": null,
   "id": "56a0c707",
   "metadata": {},
   "outputs": [],
   "source": []
  },
  {
   "cell_type": "markdown",
   "id": "6b5df951",
   "metadata": {},
   "source": [
    "* use fitted model to get predictions for test set"
   ]
  },
  {
   "cell_type": "code",
   "execution_count": 59,
   "id": "7e86ab5b",
   "metadata": {
    "ExecuteTime": {
     "end_time": "2022-02-05T15:50:41.442057Z",
     "start_time": "2022-02-05T15:50:41.414459Z"
    }
   },
   "outputs": [
    {
     "data": {
      "text/plain": [
       "array([64.66957381, 48.76982283, 64.55824507, ..., 52.18868684,\n",
       "       54.54876632, 55.67257279])"
      ]
     },
     "execution_count": 59,
     "metadata": {},
     "output_type": "execute_result"
    }
   ],
   "source": [
    "model_preds = model.predict(x_test)\n",
    "model_preds"
   ]
  },
  {
   "cell_type": "code",
   "execution_count": null,
   "id": "4c048fc9",
   "metadata": {},
   "outputs": [],
   "source": []
  },
  {
   "cell_type": "markdown",
   "id": "782ef4c3",
   "metadata": {},
   "source": [
    "* explore model quality on test set."
   ]
  },
  {
   "cell_type": "code",
   "execution_count": 60,
   "id": "c3ffdc83",
   "metadata": {
    "ExecuteTime": {
     "end_time": "2022-02-05T15:50:41.472214Z",
     "start_time": "2022-02-05T15:50:41.445054Z"
    }
   },
   "outputs": [
    {
     "name": "stdout",
     "output_type": "stream",
     "text": [
      "model metrics on test set\n"
     ]
    },
    {
     "data": {
      "text/plain": [
       "mse     50.796047\n",
       "mae      5.115502\n",
       "mape     0.142870\n",
       "r2       0.820495\n",
       "dtype: float64"
      ]
     },
     "execution_count": 60,
     "metadata": {},
     "output_type": "execute_result"
    }
   ],
   "source": [
    "print('model metrics on test set')\n",
    "metrics_test_2 = get_metrics(y_true=y_test, y_pred=model_preds)\n",
    "metrics_test_2"
   ]
  },
  {
   "cell_type": "code",
   "execution_count": null,
   "id": "393a5a65",
   "metadata": {},
   "outputs": [],
   "source": []
  },
  {
   "cell_type": "markdown",
   "id": "c8d275ee",
   "metadata": {},
   "source": [
    "* Let's compare `metrics_test_2` against `metrics_test_1`"
   ]
  },
  {
   "cell_type": "code",
   "execution_count": 61,
   "id": "a740f433",
   "metadata": {
    "ExecuteTime": {
     "end_time": "2022-02-05T15:50:41.503739Z",
     "start_time": "2022-02-05T15:50:41.475213Z"
    }
   },
   "outputs": [
    {
     "data": {
      "text/html": [
       "<div>\n",
       "<style scoped>\n",
       "    .dataframe tbody tr th:only-of-type {\n",
       "        vertical-align: middle;\n",
       "    }\n",
       "\n",
       "    .dataframe tbody tr th {\n",
       "        vertical-align: top;\n",
       "    }\n",
       "\n",
       "    .dataframe thead th {\n",
       "        text-align: right;\n",
       "    }\n",
       "</style>\n",
       "<table border=\"1\" class=\"dataframe\">\n",
       "  <thead>\n",
       "    <tr style=\"text-align: right;\">\n",
       "      <th></th>\n",
       "      <th>mse</th>\n",
       "      <th>mae</th>\n",
       "      <th>mape</th>\n",
       "      <th>r2</th>\n",
       "    </tr>\n",
       "  </thead>\n",
       "  <tbody>\n",
       "    <tr>\n",
       "      <th>LR_1v</th>\n",
       "      <td>117.706730</td>\n",
       "      <td>8.436945</td>\n",
       "      <td>0.219265</td>\n",
       "      <td>0.584043</td>\n",
       "    </tr>\n",
       "    <tr>\n",
       "      <th>LR_mv</th>\n",
       "      <td>50.796047</td>\n",
       "      <td>5.115502</td>\n",
       "      <td>0.142870</td>\n",
       "      <td>0.820495</td>\n",
       "    </tr>\n",
       "  </tbody>\n",
       "</table>\n",
       "</div>"
      ],
      "text/plain": [
       "              mse       mae      mape        r2\n",
       "LR_1v  117.706730  8.436945  0.219265  0.584043\n",
       "LR_mv   50.796047  5.115502  0.142870  0.820495"
      ]
     },
     "execution_count": 61,
     "metadata": {},
     "output_type": "execute_result"
    }
   ],
   "source": [
    "# combine 2 series in 1 dataframe\n",
    "metrics_comparison = metrics_test_1.to_frame('LR_1v').join(metrics_test_2.rename('LR_mv')).T\n",
    "metrics_comparison"
   ]
  },
  {
   "cell_type": "code",
   "execution_count": 62,
   "id": "51191845",
   "metadata": {
    "ExecuteTime": {
     "end_time": "2022-02-05T15:50:42.536930Z",
     "start_time": "2022-02-05T15:50:41.507803Z"
    }
   },
   "outputs": [
    {
     "name": "stderr",
     "output_type": "stream",
     "text": [
      "C:\\Users\\u.username\\Anaconda3\\lib\\site-packages\\pandas\\plotting\\_matplotlib\\__init__.py:61: UserWarning: To output multiple subplots, the figure containing the passed axes is being cleared\n",
      "  plot_obj.generate()\n"
     ]
    },
    {
     "data": {
      "image/png": "[encoded data removed]",
      "text/plain": [
       "<Figure size 1008x360 with 4 Axes>"
      ]
     },
     "metadata": {},
     "output_type": "display_data"
    }
   ],
   "source": [
    "fig, ax = plt.subplots(figsize=(14, 5))  # specify figure size\n",
    "metrics_comparison.plot(\n",
    "    kind='bar', layout=(1,4), subplots=True, \n",
    "    title='change in metrics', legend=False, ax=ax\n",
    ");\n",
    "fig.tight_layout();  # prettify subplots. read more in documentation if interested"
   ]
  },
  {
   "cell_type": "markdown",
   "id": "c58e9fea",
   "metadata": {},
   "source": [
    "* did our Linear regression model improve after we've added more features?"
   ]
  },
  {
   "cell_type": "markdown",
   "id": "da42688b",
   "metadata": {},
   "source": [
    "Yes"
   ]
  },
  {
   "cell_type": "code",
   "execution_count": null,
   "id": "1bc8bba6",
   "metadata": {},
   "outputs": [],
   "source": []
  },
  {
   "cell_type": "markdown",
   "id": "78cddb01",
   "metadata": {},
   "source": [
    "### Task 9. Implement Linear regression model with multiple variables yourself (5 points)\n",
    "\n",
    "Okay, we've fitted Linear regression model using `sklearn` library. Now let's do the math ourselves!"
   ]
  },
  {
   "cell_type": "markdown",
   "id": "48d65890",
   "metadata": {},
   "source": [
    "### Prerequisites\n",
    "\n",
    "For this task you will need to:\n",
    "* have basic understanding of Linear algebra (operations with vectors and matrices)\n",
    "* know how to perform matrix multiplication, transposition and inversion using `numpy` \n",
    "  (these functions can be found in NumPy documentation)\n",
    "* carefully read the theory below and refer to wiki / textbooks / other sources if required\n",
    "\n",
    "---\n",
    "\n",
    "### Theory and notation\n",
    "\n",
    "When we extend Linear regression model on case with $m$ variables we get the following formula:\n",
    "\n",
    "* $ \\hat{y}\n",
    "= 1 \\cdot w_0 + x_1 \\cdot w_1 + x_2 \\cdot w_2 + ... + x_m \\cdot w_m\n",
    "= \\sum_{i=0}^{m} x_i w_i\n",
    "$,\n",
    "\n",
    "where:\n",
    "* $x = (1, x_1, ..., x_m)$ is an _(m+1)_-element feature vector. \n",
    "    * $x_0 = 1$ is a special term introduced in the beginning of feature vector \n",
    "      to add intercept to Linear regression model\n",
    "    * $x_i, i=\\overline{1,m}$ is an _i_-th feature value.\n",
    "* $w = (w_0, w_1, ..., w_m)$ is an _(m+1)_-element parameter vector\n",
    "    * $w_0$ - the first value of parameter vector - is referred to as **intercept**\n",
    "* $\\hat{y}$ is a predicted value\n",
    "\n",
    "----\n",
    "\n",
    "The formula above is used to calculate predictions for 1 sample.\n",
    "i.e. we predict 1 scalar $\\hat{y}$ from 1 feature vector $x$.\n",
    "\n",
    "If we have a dataset of $n$ samples $(x, y)$ - we get a system of linear equations:\n",
    "\n",
    "$\n",
    "\\begin{cases}\n",
    " \\hat{y}^{(0)} = \\sum_{i=0}^{m} x_i^{(0)} w_i \\\\\n",
    " \\hat{y}^{(1)} = \\sum_{i=0}^{m} x_i^{(1)} w_i \\\\\n",
    " ... \\\\\\\n",
    " \\hat{y}^{(n-1)} = \\sum_{i=0}^{m} x_i^{(n-1)} w_i\n",
    "\\end{cases}\n",
    "$\n",
    "\n",
    "Such system can be rewritten in a succinct matrix form (a way that we write equations in Linear algebra):\n",
    "\n",
    "* $ \\hat{y} = X \\cdot w $\n",
    "\n",
    "And the task of minimizing Residual sum of squares (RSS) now looks:\n",
    "* $ RSS(w, x, y) = \\|y - \\hat{y}\\|_2^2 = \\|y - X \\cdot w \\|_2^2 \\rightarrow min $\n",
    "\n",
    "Here:\n",
    "* $y = (y^{(0)}, y^{(1)}, ..., y^{(n-1)})$ now denotes a **vector of target values** we want to predict<br>\n",
    "  $y^{(j)}$ is a target value for _j_-th sample in a dataset.\n",
    "* $\\hat{y} = (\\hat{y}^{(0)}, ..., \\hat{y}^{(n-1)})$ \n",
    "  now denotes a **vector of predictions** <br>\n",
    "  $\\hat{y}^{(j)}$ denotes a predicted value for _j_-th sample in a dataset\n",
    "* $X$ is a **feature matrix** of shape $n \\times (m+1)$. <br>\n",
    "  _n_ rows correspond to _n_ data samples and _m+1_ columns correspond to _m+1_ features that describe each sample.\n",
    "* $w = (w_0, w_1, ..., w_m)$ is still a **model parameter vector**\n",
    "* $X \\cdot w$ denotes a **matrix-by-vector** multiplication\n",
    "* $\\|\\cdot\\|_2$ denotes an $L_2$-norm and is basically a square root of sum of squares of vector elements:<br>\n",
    "  $\\|a\\|_2 = \\sqrt{a_0^2 + a_1^2 + ... + a_{n-1}^2}$ for an _n_-component vector _a_.\n",
    "  Thus, RSS means the same as before:<br>\n",
    "  $ RSS(w, x, y) = \\|y - \\hat{y}\\|_2^2 = \n",
    "  (y^{(0)} - \\hat{y}^{(0)})^2 + (y^{(1)} - \\hat{y}^{(1)})^2 + ... + (y^{(n-1)} - \\hat{y}^{(n-1)})^2 = \n",
    "  \\sum_{j=0}^{n-1} (y^{(j)} - \\hat{y}^{(j)})^2\n",
    "  $\n",
    "\n",
    "Note:\n",
    "* we now use **superscripts** $\\hat{y}^{(i)}$ instead of **subscripts** $\\hat{y}_i$ as before\n",
    "  to denote _i_-th sample in a dataset\n",
    "* it is done to be able to refer both to sample index (denoted by superscript)\n",
    "  and feature index (denoted by subscript) in a single equation. \n",
    "  \n",
    "  Thus:\n",
    "  * $x^{(j)} = (1, x^{(j)}_1, x^{(j)}_2, ..., x^{(j)}_{m})$  now denotes \n",
    "    _j_-th feature vector in a dataset with _m+1_ features\n",
    "  * $x_i^{(j)}$ denotes an _i_-th feature value of _j_-th feature vector\n",
    "  * $X = \n",
    "  \\begin{bmatrix}\n",
    "      1 & x^{(0)}_1 & x^{(0)}_2 & ... & x^{(0)}_{m} \\\\\n",
    "      1 & x^{(1)}_1 & x^{(1)}_2 & ... & x^{(1)}_{m} \\\\\n",
    "      ... \\\\\n",
    "      1 & x^{(n-1)}_1 & x^{(n-1)}_2 & ... & x^{(n-1)}_{m}\n",
    "    \\end{bmatrix}\n",
    "    $ is an $n \\times (m+1)$ feature matrix. <br><br>\n",
    "    $X$ can also be written as a column-vector of feature vectors:<br><br>\n",
    "    $ X = \\begin{bmatrix}x^{(0)} \\\\ x^{(1)} \\\\ ... \\\\ x^{(n-1)}\\end{bmatrix} $\n",
    "\n",
    "---\n",
    "\n",
    "### Fit \n",
    "\n",
    "**<TL;DR\\>** Enough notation! How can we fit this model?\n",
    "\n",
    "By minimizin Residual sum of squares (RSS) for a Linear regression equation in a matrix form\n",
    "we now get a **single** formula to find **all model parameters**!\n",
    "* $ w = (X^T X)^{-1} X^T y $\n",
    "\n",
    "Beautiful, isn't it? <br>\n",
    "Recall, how we got individual formulas for $w_0, w_1$ in case of Linear regression with 1 predictor.<br>\n",
    "Now we can find the whole parameter vector _w_ at once!\n",
    "\n",
    "In the formula above:\n",
    "* $X$ is an $n \\times (m+1)$ dimensional feature matrix\n",
    "\n",
    "\n",
    "* $X^T$ is a **transposed** feature matrix.<br>\n",
    "  Transposition is a mathematical operation of \"swapping\" matrix dimensions.<br>\n",
    "  So $X^T$ is an $(m+1) \\times n$ dimensional matrix  \n",
    "\n",
    "\n",
    "* $ (X^T X)^{-1} $ is the inverse matrix of $ X^T X $\n",
    "\n",
    "Notes:\n",
    "* Because of inversion operation performed on $X^T X$ matrix \n",
    "  there are difficulties in fitting Linear regression model in some cases.\n",
    "  \n",
    "  We will talk more on that later in the assignment.\n",
    "\n",
    "---\n",
    "    \n",
    "If you want to learn more you can refer to \n",
    "[Linear least squares](https://en.wikipedia.org/wiki/Linear_least_squares)\n",
    "wiki-page."
   ]
  },
  {
   "cell_type": "code",
   "execution_count": null,
   "id": "68ce76c6",
   "metadata": {},
   "outputs": [],
   "source": []
  },
  {
   "cell_type": "markdown",
   "id": "9ba996dc",
   "metadata": {},
   "source": [
    "### Implementation"
   ]
  },
  {
   "cell_type": "markdown",
   "id": "82abd2cd",
   "metadata": {},
   "source": [
    "* implement `LRMatrixForm` class and `add_ones_column` function.<br>\n",
    "  docstrings describe what each function/method should do - so read the docstrings.\n",
    "  \n",
    "  \n",
    "* [what is a docstring?](https://www.python.org/dev/peps/pep-0257/#what-is-a-docstring)\n",
    "\n",
    "\n",
    "Note:\n",
    "* `LRMatrixForm` class must support 2 modes: **with** fitting intercept parameter and **without**.<br>\n",
    "  The behavior is controlled by `fit_intercept` parameter passed to class constructor."
   ]
  },
  {
   "cell_type": "code",
   "execution_count": 63,
   "id": "f775f913",
   "metadata": {
    "ExecuteTime": {
     "end_time": "2022-02-05T15:50:42.552627Z",
     "start_time": "2022-02-05T15:50:42.543552Z"
    }
   },
   "outputs": [],
   "source": [
    "from sklearn.exceptions import NotFittedError"
   ]
  },
  {
   "cell_type": "code",
   "execution_count": 1,
   "id": "1a03a77c",
   "metadata": {
    "ExecuteTime": {
     "end_time": "2022-02-05T15:50:42.614912Z",
     "start_time": "2022-02-05T15:50:42.555773Z"
    }
   },
   "outputs": [
    {
     "ename": "NameError",
     "evalue": "name 'pd' is not defined",
     "output_type": "error",
     "traceback": [
      "\u001b[1;31m---------------------------------------------------------------------------\u001b[0m",
      "\u001b[1;31mNameError\u001b[0m                                 Traceback (most recent call last)",
      "\u001b[1;32md:\\GIT\\ml-intro-1\\3_linear_regression\\linear_regression.ipynb Cell 154'\u001b[0m in \u001b[0;36m<module>\u001b[1;34m\u001b[0m\n\u001b[0;32m     <a href='vscode-notebook-cell:/d%3A/GIT/ml-intro-1/3_linear_regression/linear_regression.ipynb#ch0000153?line=10'>11</a>\u001b[0m     x\u001b[39m=\u001b[39mnp\u001b[39m.\u001b[39mhstack([x,ones])\n\u001b[0;32m     <a href='vscode-notebook-cell:/d%3A/GIT/ml-intro-1/3_linear_regression/linear_regression.ipynb#ch0000153?line=11'>12</a>\u001b[0m     \u001b[39mreturn\u001b[39;00m x\n\u001b[1;32m---> <a href='vscode-notebook-cell:/d%3A/GIT/ml-intro-1/3_linear_regression/linear_regression.ipynb#ch0000153?line=13'>14</a>\u001b[0m \u001b[39mclass\u001b[39;00m \u001b[39mLRMatrixForm\u001b[39;00m:\n\u001b[0;32m     <a href='vscode-notebook-cell:/d%3A/GIT/ml-intro-1/3_linear_regression/linear_regression.ipynb#ch0000153?line=14'>15</a>\u001b[0m     \u001b[39m\"\"\"\u001b[39;00m\n\u001b[0;32m     <a href='vscode-notebook-cell:/d%3A/GIT/ml-intro-1/3_linear_regression/linear_regression.ipynb#ch0000153?line=15'>16</a>\u001b[0m \u001b[39m    Class that encapsulates Linear regression model with multiplie variables.\u001b[39;00m\n\u001b[0;32m     <a href='vscode-notebook-cell:/d%3A/GIT/ml-intro-1/3_linear_regression/linear_regression.ipynb#ch0000153?line=16'>17</a>\u001b[0m \u001b[39m    Calculations are performed using matrix formula.\u001b[39;00m\n\u001b[1;32m   (...)\u001b[0m\n\u001b[0;32m     <a href='vscode-notebook-cell:/d%3A/GIT/ml-intro-1/3_linear_regression/linear_regression.ipynb#ch0000153?line=19'>20</a>\u001b[0m \u001b[39m    Use `predict()` method to calculate predictions when the model is fitted.\u001b[39;00m\n\u001b[0;32m     <a href='vscode-notebook-cell:/d%3A/GIT/ml-intro-1/3_linear_regression/linear_regression.ipynb#ch0000153?line=20'>21</a>\u001b[0m \u001b[39m    \"\"\"\u001b[39;00m\n\u001b[0;32m     <a href='vscode-notebook-cell:/d%3A/GIT/ml-intro-1/3_linear_regression/linear_regression.ipynb#ch0000153?line=21'>22</a>\u001b[0m     \u001b[39mdef\u001b[39;00m \u001b[39m__init__\u001b[39m(\u001b[39mself\u001b[39m, fit_intercept: \u001b[39mbool\u001b[39m \u001b[39m=\u001b[39m \u001b[39mTrue\u001b[39;00m):\n",
      "\u001b[1;32md:\\GIT\\ml-intro-1\\3_linear_regression\\linear_regression.ipynb Cell 154'\u001b[0m in \u001b[0;36mLRMatrixForm\u001b[1;34m()\u001b[0m\n\u001b[0;32m     <a href='vscode-notebook-cell:/d%3A/GIT/ml-intro-1/3_linear_regression/linear_regression.ipynb#ch0000153?line=28'>29</a>\u001b[0m     \u001b[39mself\u001b[39m\u001b[39m.\u001b[39mfit_intercept \u001b[39m=\u001b[39m fit_intercept\n\u001b[0;32m     <a href='vscode-notebook-cell:/d%3A/GIT/ml-intro-1/3_linear_regression/linear_regression.ipynb#ch0000153?line=29'>30</a>\u001b[0m     \u001b[39mself\u001b[39m\u001b[39m.\u001b[39mw_ \u001b[39m=\u001b[39m \u001b[39mNone\u001b[39;00m  \u001b[39m# vector with all model parameters (intercept and weights)\u001b[39;00m\n\u001b[1;32m---> <a href='vscode-notebook-cell:/d%3A/GIT/ml-intro-1/3_linear_regression/linear_regression.ipynb#ch0000153?line=31'>32</a>\u001b[0m \u001b[39mdef\u001b[39;00m \u001b[39mfit\u001b[39m(\u001b[39mself\u001b[39m, x_train: pd\u001b[39m.\u001b[39mDataFrame, y_train: pd\u001b[39m.\u001b[39mSeries):\n\u001b[0;32m     <a href='vscode-notebook-cell:/d%3A/GIT/ml-intro-1/3_linear_regression/linear_regression.ipynb#ch0000153?line=32'>33</a>\u001b[0m     X \u001b[39m=\u001b[39m x_train\u001b[39m.\u001b[39mto_numpy()  \u001b[39m# convert pd.DataFrame to numpy matrix\u001b[39;00m\n\u001b[0;32m     <a href='vscode-notebook-cell:/d%3A/GIT/ml-intro-1/3_linear_regression/linear_regression.ipynb#ch0000153?line=34'>35</a>\u001b[0m     \u001b[39mif\u001b[39;00m \u001b[39mself\u001b[39m\u001b[39m.\u001b[39mfit_intercept \u001b[39mis\u001b[39;00m \u001b[39mTrue\u001b[39;00m:\n\u001b[0;32m     <a href='vscode-notebook-cell:/d%3A/GIT/ml-intro-1/3_linear_regression/linear_regression.ipynb#ch0000153?line=35'>36</a>\u001b[0m         \u001b[39m# when creating a model with intercept term we need to extend feature matrix\u001b[39;00m\n\u001b[0;32m     <a href='vscode-notebook-cell:/d%3A/GIT/ml-intro-1/3_linear_regression/linear_regression.ipynb#ch0000153?line=36'>37</a>\u001b[0m         \u001b[39m# with a column consisting of ones (1, 1, ..., 1).\u001b[39;00m\n",
      "\u001b[1;31mNameError\u001b[0m: name 'pd' is not defined"
     ]
    }
   ],
   "source": [
    "def add_ones_column(x):\n",
    "    \"\"\" \n",
    "    Add column consisting of ones to the beginning of matrix `x`. \n",
    "    Used when fitting `LRMatrixForm` with `fit_intercept` param set to True.\n",
    "    \"\"\"\n",
    "    # HINTS: \n",
    "    # * create a vector that consists of ones: (1, 1, ..., 1)\n",
    "    # * then use either `np.column_stack` or `np.hstack` function to add this vector to a matrix\n",
    "    x=x_train\n",
    "    ones=np.ones((len(x_train),1))\n",
    "    x=np.hstack([x,ones])\n",
    "    return x\n",
    "\n",
    "class LRMatrixForm:\n",
    "    \"\"\"\n",
    "    Class that encapsulates Linear regression model with multiplie variables.\n",
    "    Calculations are performed using matrix formula.\n",
    "    \n",
    "    Use `fit()` method to fit the model on data.\n",
    "    Use `predict()` method to calculate predictions when the model is fitted.\n",
    "    \"\"\"\n",
    "    def __init__(self, fit_intercept: bool = True):\n",
    "        \"\"\"\n",
    "        fit_intercept: \n",
    "        Whether to calculate the intercept for this model. \n",
    "        If set to False, no intercept will be used in calculations \n",
    "        (i.e. data is expected to be centered).\n",
    "        \"\"\"\n",
    "        self.fit_intercept = fit_intercept\n",
    "        self.w_ = None  # vector with all model parameters (intercept and weights)\n",
    "    \n",
    "    def fit(self, x_train: pd.DataFrame, y_train: pd.Series):\n",
    "        X = x_train.to_numpy()  # convert pd.DataFrame to numpy matrix\n",
    "        \n",
    "        if self.fit_intercept is True:\n",
    "            # when creating a model with intercept term we need to extend feature matrix\n",
    "            # with a column consisting of ones (1, 1, ..., 1).\n",
    "            X = add_ones_column(X)\n",
    "            \n",
    "        # # your code here to calculate model parameters:\n",
    "        self.w_ =np.invert(X.transpose*X)*X.transpose*y_train\n",
    "        \n",
    "    @property\n",
    "    def coef_(self):\n",
    "        \"\"\" Property that returns model parameters without the intercept term. \"\"\"\n",
    "        if self.w_ is None:\n",
    "            raise NotFittedError()\n",
    "        # # your code here:\n",
    "        return self.w_[1:]\n",
    "    \n",
    "    @property\n",
    "    def intercept_(self):\n",
    "        \"\"\" Property that returns intercept term from model parameters. \"\"\"\n",
    "        if self.fit_intercept is not True:\n",
    "            return 0.0  # for compatibility with sklearn\n",
    "        if self.w_ is None:\n",
    "            raise NotFittedError()\n",
    "        # # your code here:\n",
    "        return self.w_[0]\n",
    "    \n",
    "    def predict(self, x_test: pd.DataFrame):\n",
    "        \"\"\" Generate predictions using fitted model parameters. \"\"\"\n",
    "        if self.w_ is None:\n",
    "            raise NotFittedError()\n",
    "        \n",
    "        X = x_test.to_numpy()  # convert pd.DataFrame to numpy matrix\n",
    "        \n",
    "        if self.fit_intercept is True:\n",
    "            X = add_ones_column(X)\n",
    "            \n",
    "        # # your code here to calculate predictions\n",
    "        return X*w"
   ]
  },
  {
   "cell_type": "code",
   "execution_count": null,
   "id": "0a4efa65",
   "metadata": {},
   "outputs": [],
   "source": []
  },
  {
   "cell_type": "markdown",
   "id": "a1681d76",
   "metadata": {},
   "source": [
    "### Validate your implementation is identical to library version"
   ]
  },
  {
   "cell_type": "code",
   "execution_count": null,
   "id": "9bdcb929",
   "metadata": {
    "ExecuteTime": {
     "end_time": "2022-02-05T15:50:42.690735Z",
     "start_time": "2022-02-05T15:50:42.649536Z"
    }
   },
   "outputs": [],
   "source": [
    "lr_matrix_form = LRMatrixForm(fit_intercept=True)\n",
    "fit_and_evaluate(lr_matrix_form, x_train, y_train, x_test, y_test)"
   ]
  },
  {
   "cell_type": "markdown",
   "id": "da96f24d",
   "metadata": {},
   "source": []
  },
  {
   "cell_type": "code",
   "execution_count": null,
   "id": "cfb7471a",
   "metadata": {
    "ExecuteTime": {
     "end_time": "2022-02-05T15:50:42.706335Z",
     "start_time": "2022-02-05T15:50:42.694620Z"
    }
   },
   "outputs": [
    {
     "ename": "NameError",
     "evalue": "name 'lr_matrix_form' is not defined",
     "output_type": "error",
     "traceback": [
      "\u001b[1;31m---------------------------------------------------------------------------\u001b[0m",
      "\u001b[1;31mNameError\u001b[0m                                 Traceback (most recent call last)",
      "\u001b[1;32md:\\GIT\\ml-intro-1\\3_linear_regression\\linear_regression.ipynb Cell 158'\u001b[0m in \u001b[0;36m<module>\u001b[1;34m\u001b[0m\n\u001b[1;32m----> <a href='vscode-notebook-cell:/d%3A/GIT/ml-intro-1/3_linear_regression/linear_regression.ipynb#ch0000157?line=0'>1</a>\u001b[0m \u001b[39mprint\u001b[39m(\u001b[39mf\u001b[39m\u001b[39m'\u001b[39m\u001b[39mintercept: \u001b[39m\u001b[39m{\u001b[39;00mlr_matrix_form\u001b[39m.\u001b[39mintercept_\u001b[39m}\u001b[39;00m\u001b[39m'\u001b[39m)\n\u001b[0;32m      <a href='vscode-notebook-cell:/d%3A/GIT/ml-intro-1/3_linear_regression/linear_regression.ipynb#ch0000157?line=1'>2</a>\u001b[0m \u001b[39mprint\u001b[39m(\u001b[39mf\u001b[39m\u001b[39m'\u001b[39m\u001b[39mcoef: \u001b[39m\u001b[39m{\u001b[39;00mlr_matrix_form\u001b[39m.\u001b[39mcoef_\u001b[39m}\u001b[39;00m\u001b[39m'\u001b[39m)\n",
      "\u001b[1;31mNameError\u001b[0m: name 'lr_matrix_form' is not defined"
     ]
    }
   ],
   "source": [
    "print(f'intercept: {lr_matrix_form.intercept_}')\n",
    "print(f'coef: {lr_matrix_form.coef_}')"
   ]
  },
  {
   "cell_type": "code",
   "execution_count": null,
   "id": "a48ca91b",
   "metadata": {
    "ExecuteTime": {
     "end_time": "2022-02-05T15:50:42.721626Z",
     "start_time": "2022-02-05T15:50:42.709232Z"
    }
   },
   "outputs": [],
   "source": [
    "assert np.allclose(model.predict(x_test), lr_matrix_form.predict(x_test))\n",
    "assert round(model.intercept_, 9) == round(lr_matrix_form.intercept_, 9)\n",
    "assert np.allclose(model.coef_, lr_matrix_form.coef_)"
   ]
  },
  {
   "cell_type": "code",
   "execution_count": null,
   "id": "f8cac9be",
   "metadata": {},
   "outputs": [],
   "source": []
  },
  {
   "cell_type": "markdown",
   "id": "51c30499",
   "metadata": {},
   "source": [
    "* let's take a look at difference between model predictions and target values:"
   ]
  },
  {
   "cell_type": "code",
   "execution_count": null,
   "id": "7bf9b608",
   "metadata": {
    "ExecuteTime": {
     "end_time": "2022-02-05T15:50:42.752837Z",
     "start_time": "2022-02-05T15:50:42.724242Z"
    }
   },
   "outputs": [],
   "source": [
    "(model.predict(x_test) - y_test).describe()"
   ]
  },
  {
   "cell_type": "code",
   "execution_count": null,
   "id": "560f1295",
   "metadata": {},
   "outputs": [],
   "source": []
  },
  {
   "cell_type": "code",
   "execution_count": null,
   "id": "eab69472",
   "metadata": {},
   "outputs": [],
   "source": []
  },
  {
   "cell_type": "markdown",
   "id": "6bc5a656",
   "metadata": {},
   "source": [
    "### Now let's compare `sklearn` model and yours with `fit_intercept=False`"
   ]
  },
  {
   "cell_type": "code",
   "execution_count": null,
   "id": "3d9f8ca7",
   "metadata": {
    "ExecuteTime": {
     "end_time": "2022-02-05T15:50:42.800245Z",
     "start_time": "2022-02-05T15:50:42.756837Z"
    }
   },
   "outputs": [],
   "source": [
    "model = LinearRegression(fit_intercept=False)\n",
    "fit_and_evaluate(model, x_train, y_train, x_test, y_test)"
   ]
  },
  {
   "cell_type": "code",
   "execution_count": null,
   "id": "dc0ecf04",
   "metadata": {
    "ExecuteTime": {
     "end_time": "2022-02-05T15:50:42.832215Z",
     "start_time": "2022-02-05T15:50:42.803391Z"
    }
   },
   "outputs": [],
   "source": [
    "lr_matrix_form = LRMatrixForm(fit_intercept=False)\n",
    "fit_and_evaluate(lr_matrix_form, x_train, y_train, x_test, y_test)"
   ]
  },
  {
   "cell_type": "markdown",
   "id": "62a89e61",
   "metadata": {},
   "source": [
    "* Compare the metrics on a test set of a model fitted **with** intercept parameter \n",
    "  vs model fitted **without** intercept.\n",
    "* Which model has a better performance? Can you explain why?"
   ]
  },
  {
   "cell_type": "code",
   "execution_count": null,
   "id": "3ec4462e",
   "metadata": {
    "ExecuteTime": {
     "end_time": "2022-02-05T15:50:42.847828Z",
     "start_time": "2022-02-05T15:50:42.835364Z"
    }
   },
   "outputs": [],
   "source": [
    "print(f'intercept: {lr_matrix_form.intercept_}')\n",
    "print(f'coef: {lr_matrix_form.coef_}')"
   ]
  },
  {
   "cell_type": "code",
   "execution_count": null,
   "id": "2e5c392d",
   "metadata": {
    "ExecuteTime": {
     "end_time": "2022-02-05T15:50:42.863579Z",
     "start_time": "2022-02-05T15:50:42.850971Z"
    }
   },
   "outputs": [],
   "source": [
    "assert np.allclose(model.predict(x_test), lr_matrix_form.predict(x_test))\n",
    "assert round(model.intercept_, 9) == round(lr_matrix_form.intercept_, 9)\n",
    "assert np.allclose(model.coef_, lr_matrix_form.coef_)"
   ]
  },
  {
   "cell_type": "code",
   "execution_count": null,
   "id": "4e91c4cd",
   "metadata": {},
   "outputs": [],
   "source": []
  },
  {
   "cell_type": "markdown",
   "id": "4b916b4f",
   "metadata": {},
   "source": [
    "* let's take a look at difference between model predictions and target values again:"
   ]
  },
  {
   "cell_type": "code",
   "execution_count": null,
   "id": "75639630",
   "metadata": {
    "ExecuteTime": {
     "end_time": "2022-02-05T15:50:42.894776Z",
     "start_time": "2022-02-05T15:50:42.867045Z"
    }
   },
   "outputs": [],
   "source": [
    "(model.predict(x_test) - y_test).describe()"
   ]
  },
  {
   "cell_type": "markdown",
   "id": "56521d58",
   "metadata": {},
   "source": [
    "* compare this to the same statistics obtained with model fitted **with intercept**\n",
    "* notice how the _mean_ value of difference changed"
   ]
  },
  {
   "cell_type": "code",
   "execution_count": null,
   "id": "50918df6",
   "metadata": {},
   "outputs": [],
   "source": []
  },
  {
   "cell_type": "code",
   "execution_count": null,
   "id": "7cd55589",
   "metadata": {},
   "outputs": [],
   "source": []
  },
  {
   "cell_type": "markdown",
   "id": "38901be9",
   "metadata": {},
   "source": [
    "## Limitations of Linear regression\n",
    "\n",
    "Recall the formula to find Linear regression parameters in case of multiple variables:\n",
    "* $ w = (X^T X)^{-1} X^T y $\n",
    "\n",
    "As noted above, there might be difficulties with fitting Linear regression model\n",
    "because of inverting $X^T X$ matrix.\n",
    "\n",
    "Not every matrix can be inverted.\n",
    "\n",
    "An example of such case is when 2 or more features have strong linear relationship between them.<br>\n",
    "It means that one of variables can be **linearly predicted from the others with a substantial degree of accuracy**.<br>\n",
    "Such situation is named **collinearitry** (in case of 2 related variables)\n",
    "or **multicollinearity** (>2 related features).<br>\n",
    "\n",
    "Collinearity is associated with high value of correlation coefficient between 2 related features.\n",
    "\n",
    "You can refer to [multicollinearity](https://en.wikipedia.org/wiki/Multicollinearity) \n",
    "wiki page to read more.\n",
    "\n",
    "The intuition why multicollinearity is bad is that Linear Regression tries to capture \n",
    "a contribution of each individual feature to target independently of other features.\n",
    "This is not possible with the data that has collinear features, \n",
    "as change in one such variable is always associated with change in other/others.\n",
    "\n",
    "There are a whole bunch of really interesting thoughts that can help you \n",
    "to capture the intuition behind the concept of multicollinearity.<br>\n",
    "You can find some of them \n",
    "[here](https://stats.stackexchange.com/questions/1149/is-there-an-intuitive-explanation-why-multicollinearity-is-a-problem-in-linear-r)."
   ]
  },
  {
   "cell_type": "code",
   "execution_count": null,
   "id": "64079dbd",
   "metadata": {},
   "outputs": [],
   "source": []
  },
  {
   "cell_type": "markdown",
   "id": "e721083f",
   "metadata": {},
   "source": [
    "### Collinearity\n",
    "\n",
    "* Let's construct and add a new feature to our dataset that is going to be _collinear_ with another one:"
   ]
  },
  {
   "cell_type": "code",
   "execution_count": null,
   "id": "b20fecd4",
   "metadata": {
    "ExecuteTime": {
     "end_time": "2022-02-05T15:50:42.909912Z",
     "start_time": "2022-02-05T15:50:42.897985Z"
    }
   },
   "outputs": [],
   "source": [
    "# select features as usual\n",
    "target = 'dribbling'\n",
    "features = ['ball_control', 'short_passing', 'strength', 'sprint_speed']\n",
    "x_train, y_train, x_test, y_test = get_train_test_data(features, target)"
   ]
  },
  {
   "cell_type": "code",
   "execution_count": null,
   "id": "f493217b",
   "metadata": {
    "ExecuteTime": {
     "end_time": "2022-02-05T15:50:42.940438Z",
     "start_time": "2022-02-05T15:50:42.913437Z"
    }
   },
   "outputs": [],
   "source": [
    "def add_collinear_column(_df: pd.DataFrame, orig_col: str, new_col: str):    \n",
    "    \"\"\" \n",
    "    Construct new column as a linear transform of another one + tiny noise.\n",
    "    y = f(x) = a1 * x + a2 + noise.\n",
    "    \n",
    "    Alternatively, we could apply no linear transform at all (set a1=1, a2=0)\n",
    "    And only add some noise to existing column. Results would be the same.\n",
    "    \"\"\"\n",
    "    # linear transform\n",
    "    _df[new_col] = 2 * _df[orig_col] + 3\n",
    "    # add tiny normal noise\n",
    "    _df[new_col] += np.random.normal(loc=0, scale=0.0001, size=_df.shape[0])\n",
    "\n",
    "orig_col = 'sprint_speed'\n",
    "new_col = 'sprint_speed_2'\n",
    "add_collinear_column(x_train, orig_col, new_col)\n",
    "add_collinear_column(x_test, orig_col, new_col)\n",
    "features.append(new_col)"
   ]
  },
  {
   "cell_type": "code",
   "execution_count": null,
   "id": "852985d6",
   "metadata": {
    "ExecuteTime": {
     "end_time": "2022-02-05T15:50:42.956152Z",
     "start_time": "2022-02-05T15:50:42.943901Z"
    }
   },
   "outputs": [],
   "source": [
    "corr_coef = np.corrcoef(x_train[orig_col], x_train[new_col])[0, 1]\n",
    "print(f'correlation between {orig_col} and {new_col}: {corr_coef}')"
   ]
  },
  {
   "cell_type": "markdown",
   "id": "515bbaa6",
   "metadata": {},
   "source": [
    "* As expected, correlation coefficient between collinear features \n",
    "  (`sprint_speed` and `sprint_speed_2`) is close to 1.<br>\n",
    "  Thus they are highly correlated."
   ]
  },
  {
   "cell_type": "code",
   "execution_count": null,
   "id": "7e7cd781",
   "metadata": {
    "ExecuteTime": {
     "end_time": "2022-02-05T15:50:42.987635Z",
     "start_time": "2022-02-05T15:50:42.964593Z"
    }
   },
   "outputs": [],
   "source": [
    "# visualize sample of train data\n",
    "check = x_train.sample(5).copy()\n",
    "# add helper column to see how much noise was added\n",
    "check['sprint_speed_2_wo_noise'] = 2 * check['sprint_speed'] + 3\n",
    "check"
   ]
  },
  {
   "cell_type": "markdown",
   "id": "b6576093",
   "metadata": {},
   "source": [
    "### let's fit a Linear Regression model on this feature set:"
   ]
  },
  {
   "cell_type": "code",
   "execution_count": null,
   "id": "f57456c9",
   "metadata": {
    "ExecuteTime": {
     "end_time": "2022-02-05T15:50:43.034810Z",
     "start_time": "2022-02-05T15:50:42.990938Z"
    }
   },
   "outputs": [],
   "source": [
    "model = LinearRegression(fit_intercept=True)\n",
    "fit_and_evaluate(model, x_train, y_train, x_test, y_test)"
   ]
  },
  {
   "cell_type": "markdown",
   "id": "c56e433e",
   "metadata": {},
   "source": [
    "* Both train and test metrics look reasonable\n",
    "* Now let's explore model params:"
   ]
  },
  {
   "cell_type": "code",
   "execution_count": null,
   "id": "0df62784",
   "metadata": {
    "ExecuteTime": {
     "end_time": "2022-02-05T15:50:43.050054Z",
     "start_time": "2022-02-05T15:50:43.038334Z"
    }
   },
   "outputs": [],
   "source": [
    "print(f'intercept: {model.intercept_}')\n",
    "print(f'coef: {model.coef_.tolist()}')"
   ]
  },
  {
   "cell_type": "markdown",
   "id": "ad05ce9c",
   "metadata": {},
   "source": [
    "* Weights that correspond to `sprint_speed` and `sprint_speed_2` columns should have gone insanely high!\n",
    "\n",
    "\n",
    "* That is not ok. Large weights and weights instability are the sign of \n",
    "    [**overfitting**](https://en.wikipedia.org/wiki/Overfitting).\n",
    "\n",
    "    According to the definition, overfitting is:<br>\n",
    "    \"_the production of an analysis that corresponds too closely \n",
    "    or exactly to a particular set of data,<br>\n",
    "    and may therefore fail to fit additional data \n",
    "    or predict future observations reliably_\".\n",
    "    \n",
    "    \n",
    "* But what does that mean? Let's try to generate predictions with our model."
   ]
  },
  {
   "cell_type": "markdown",
   "id": "27f2c1a2",
   "metadata": {},
   "source": [
    "### generate predictions using our fitted model"
   ]
  },
  {
   "cell_type": "code",
   "execution_count": null,
   "id": "ce37f029",
   "metadata": {
    "ExecuteTime": {
     "end_time": "2022-02-05T15:50:43.080517Z",
     "start_time": "2022-02-05T15:50:43.052815Z"
    }
   },
   "outputs": [],
   "source": [
    "check = x_test.head(2).copy()\n",
    "check[target] = y_test.head(2)\n",
    "check['preds'] = model.predict(check[features])\n",
    "check"
   ]
  },
  {
   "cell_type": "code",
   "execution_count": null,
   "id": "f76ad35f",
   "metadata": {
    "ExecuteTime": {
     "end_time": "2022-02-05T15:50:43.111095Z",
     "start_time": "2022-02-05T15:50:43.084033Z"
    }
   },
   "outputs": [],
   "source": [
    "get_metrics(y_true=check[target], y_pred=check['preds'])"
   ]
  },
  {
   "cell_type": "markdown",
   "id": "d1f81390",
   "metadata": {
    "ExecuteTime": {
     "end_time": "2022-02-04T12:22:55.993894Z",
     "start_time": "2022-02-04T12:22:55.983089Z"
    }
   },
   "source": [
    "* predictions look good, right? "
   ]
  },
  {
   "cell_type": "markdown",
   "id": "e9edbe54",
   "metadata": {
    "ExecuteTime": {
     "end_time": "2022-02-04T12:22:55.993894Z",
     "start_time": "2022-02-04T12:22:55.983089Z"
    }
   },
   "source": [
    "### but what if we change `sprint_speed` values a bit? let's add some small `delta`"
   ]
  },
  {
   "cell_type": "code",
   "execution_count": null,
   "id": "a00e6e92",
   "metadata": {
    "ExecuteTime": {
     "end_time": "2022-02-05T15:50:43.157969Z",
     "start_time": "2022-02-05T15:50:43.114463Z"
    }
   },
   "outputs": [],
   "source": [
    "delta = 1  # some small value\n",
    "check['sprint_speed'] += delta\n",
    "check['preds_2'] = model.predict(check[features])\n",
    "check"
   ]
  },
  {
   "cell_type": "code",
   "execution_count": null,
   "id": "16d52262",
   "metadata": {
    "ExecuteTime": {
     "end_time": "2022-02-05T15:50:43.190117Z",
     "start_time": "2022-02-05T15:50:43.161045Z"
    }
   },
   "outputs": [],
   "source": [
    "get_metrics(y_true=check[target], y_pred=check['preds_2'])"
   ]
  },
  {
   "cell_type": "markdown",
   "id": "5157da8e",
   "metadata": {},
   "source": [
    "* Wow, new predictions doesn't look even close to the target!<br>\n",
    "  Our model doesn't look like a good model anymore.\n",
    "  \n",
    "\n",
    "* That is exactly what overfitting is. <br>\n",
    "  **We fail to obtain reasonable predictions when we apply our model on new data**."
   ]
  },
  {
   "cell_type": "markdown",
   "id": "f4845200",
   "metadata": {},
   "source": [
    "### One might notice that we have changed only 1 of 2 collinear features\n",
    "* Indeed, giant model weights that correspond to these 2 features, should cancel each one out<br>\n",
    "  if relation between feature values stays the same.  "
   ]
  },
  {
   "cell_type": "markdown",
   "id": "5e896312",
   "metadata": {},
   "source": [
    "* Let's check this out.<br>\n",
    "  We have performed following transform:<br>\n",
    "  `sprint_speed_changed = sprint_speed + delta`<br>\n",
    "  \n",
    "\n",
    "* How should we change `sprint_speed_2` to match the same data distribution from train data?<br>\n",
    "  \n",
    "  Let's calculate (we will ignore the noise added):  \n",
    "  `sprint_speed_2_changed - sprint_speed_2 = f(sprint_speed_changed) - f(sprint_speed) =`<br>\n",
    "  `= a1 * sprint_speed_changed + a2 - (a1 * sprint_speed + a2) = a1 * delta`"
   ]
  },
  {
   "cell_type": "code",
   "execution_count": null,
   "id": "2b518c01",
   "metadata": {
    "ExecuteTime": {
     "end_time": "2022-02-05T15:50:43.236719Z",
     "start_time": "2022-02-05T15:50:43.193445Z"
    }
   },
   "outputs": [],
   "source": [
    "# here we change the second of collinear features \n",
    "# using the same coefficient \n",
    "# that was used in linear transform in `add_collinear_column()` function.\n",
    "# we don't need to add intercept coefficient as it cancels it out (you can do the math yourself).\n",
    "check['sprint_speed_2'] += 2 * delta\n",
    "check['preds_3'] = model.predict(check[features])\n",
    "check"
   ]
  },
  {
   "cell_type": "markdown",
   "id": "111fb101",
   "metadata": {
    "ExecuteTime": {
     "end_time": "2022-02-05T09:31:30.281700Z",
     "start_time": "2022-02-05T09:31:30.265131Z"
    }
   },
   "source": [
    "* In the last example we see that new predictions (`preds_3`) now look similar to the first ones <br>\n",
    "  (`preds` - calculated before changing `sprint_speed` value)\n",
    "\n",
    "\n",
    "* So, if values of collinear features change accordingly - we are safe, right? <br>\n",
    "  How do your think, can we always rely on this assumtion?"
   ]
  },
  {
   "cell_type": "code",
   "execution_count": null,
   "id": "5d69e75e",
   "metadata": {},
   "outputs": [],
   "source": []
  },
  {
   "cell_type": "markdown",
   "id": "668e5765",
   "metadata": {},
   "source": [
    "### What just happened\n",
    "\n",
    "* The answer to the question above is: **no, we can't**.\n",
    "  \n",
    "  \n",
    "* Yes, we have checked that if collinear features values are changed accordingly \n",
    "  (i.e. their **initial relation is preserved**), <br>\n",
    "  model predictions look reasonable and accurate.\n",
    "  \n",
    "  But this will not always be the case on the real data.\n",
    "  \n",
    "  We can't be sure that the data \n",
    "  that we apply our fitted model on (`x_test`, for example)<br>\n",
    "  preserves **exactly the same data distribution** as the data that model was trained on (`x_train`).\n",
    "  \n",
    "  \n",
    "\n",
    "**Why this happened?**\n",
    "\n",
    "* When feature matrix contains collinear or multicollinear features (the problem of **multicollinearity**),\n",
    "  inversion of such a matrix is numerically unstable.<br>\n",
    "  This leads to large values and imprecise estimates of model parameters.\n",
    "\n",
    "**How to detect multicollinearity**\n",
    "* You should monitor your model weights. For example using $L_2$ norm:<br>\n",
    "  $ L_2(w) = \\|w\\|_2 = \\sqrt{w_1^2 + w_2^2 + ... + w_n^2} = \\sqrt{\\sum_{i=1}^{n} w_i^2} $<br>\n",
    "  If any of model weights are huge - $L_2$ norm will also have large value.\n",
    "  \n",
    "  \n",
    "* Monitor model performance on validation data. \n",
    "  If the metrics are poor and prediction look huge,<br>\n",
    "  you should check if collinear features are present in train data.\n",
    "\n",
    "**How to fix the issue**\n",
    "\n",
    "* For each set of collinear features, keep only 1 of them and remove the rest.<br>\n",
    "  The best regression models are those in which the predictor variables each correlate highly \n",
    "  with the target variable,<br>\n",
    "  but correlate at most only minimally with each other.\n",
    "  \n",
    "\n",
    "* Combine collinear features into new ones\n",
    "\n",
    "  \n",
    "* Use regularization (will be covered later in the course)."
   ]
  },
  {
   "cell_type": "code",
   "execution_count": null,
   "id": "d7e48904",
   "metadata": {},
   "outputs": [],
   "source": []
  },
  {
   "cell_type": "markdown",
   "id": "446877ee",
   "metadata": {},
   "source": [
    "### Task 10. Implement function to calculate $L_2$-norm. (1 point)\n",
    "* Use formula above to implement $L_2$ norm"
   ]
  },
  {
   "cell_type": "code",
   "execution_count": null,
   "id": "32710cd3",
   "metadata": {
    "ExecuteTime": {
     "end_time": "2022-02-05T15:50:43.252641Z",
     "start_time": "2022-02-05T15:50:43.239359Z"
    }
   },
   "outputs": [],
   "source": [
    "def l2_norm(arr: Iterable):\n",
    "    # your code here\n",
    "    raise NotImplementedError()"
   ]
  },
  {
   "cell_type": "code",
   "execution_count": null,
   "id": "90b43edb",
   "metadata": {},
   "outputs": [],
   "source": []
  },
  {
   "cell_type": "markdown",
   "id": "e313206b",
   "metadata": {},
   "source": [
    "### Calculate $L_2$-norm value for current model\n",
    "* you should get high value that represents large values of some model parameters"
   ]
  },
  {
   "cell_type": "code",
   "execution_count": null,
   "id": "43a1844c",
   "metadata": {
    "ExecuteTime": {
     "end_time": "2022-02-05T15:50:43.283426Z",
     "start_time": "2022-02-05T15:50:43.271895Z"
    }
   },
   "outputs": [],
   "source": [
    "l2_norm(model.coef_)"
   ]
  },
  {
   "cell_type": "code",
   "execution_count": null,
   "id": "3c2c313a",
   "metadata": {},
   "outputs": [],
   "source": []
  },
  {
   "cell_type": "markdown",
   "id": "31e6829b",
   "metadata": {},
   "source": [
    "### Multicollinearity\n",
    "  \n",
    "* It's important to notice that in case of multicollinearity,\n",
    "  correlation coefficient between each pair of related variables\n",
    "  could be **not so high**.\n",
    "  \n",
    "  So **it may be hard to find multicollinear features in your data**.\n",
    "  \n",
    "\n",
    "* Let's visualize it in practice.\n",
    "\n",
    "  We will build a new feature that has a strong linear relationship with 2 other features:\n",
    "  $x_1 = a_0 + a_2 x_2 + a_3 x_3 + noise$\n",
    "\n",
    "  We want to show that Linear regression model will still suffer from multicollinearity,<br>\n",
    "  but correlation coefficients betweent each pair of multicollinear features will be **less close to 1**\n",
    "  than it was in case of collinearity."
   ]
  },
  {
   "cell_type": "code",
   "execution_count": null,
   "id": "4ff091a8",
   "metadata": {
    "ExecuteTime": {
     "end_time": "2022-02-05T15:50:43.345601Z",
     "start_time": "2022-02-05T15:50:43.287206Z"
    }
   },
   "outputs": [],
   "source": [
    "target = 'dribbling'\n",
    "features = ['ball_control', 'short_passing', 'strength', 'sprint_speed']\n",
    "x_train, y_train, x_test, y_test = get_train_test_data(features, target)\n",
    "\n",
    "def add_collinear_column(_df: pd.DataFrame, col1: str, col2: str, new_col: str):    \n",
    "    _df[new_col] = _df[col1] + _df[col2] + 5\n",
    "    _df[new_col] += np.random.normal(loc=0, scale=0.0001, size=_df.shape[0])\n",
    "\n",
    "add_collinear_column(x_train, col1='sprint_speed', col2='strength', new_col='foo')\n",
    "add_collinear_column(x_test, col1='sprint_speed', col2='strength', new_col='foo')\n",
    "features.append(new_col)\n",
    "\n",
    "model = LinearRegression(fit_intercept=True)\n",
    "m = fit_and_evaluate(model, x_train, y_train, x_test, y_test)\n",
    "display(m)\n",
    "print(f'intercept: {model.intercept_}')\n",
    "print(f'coef: {model.coef_.tolist()}')"
   ]
  },
  {
   "cell_type": "markdown",
   "id": "7a3529a8",
   "metadata": {},
   "source": [
    "* As before, model parameters for multicollinear features should be large\n",
    "\n",
    "* Let's calculate $L_2$-norm value - it should also be large"
   ]
  },
  {
   "cell_type": "code",
   "execution_count": null,
   "id": "cc949bfc",
   "metadata": {
    "ExecuteTime": {
     "end_time": "2022-02-05T15:50:43.361054Z",
     "start_time": "2022-02-05T15:50:43.348627Z"
    }
   },
   "outputs": [],
   "source": [
    "l2_norm(model.coef_)"
   ]
  },
  {
   "cell_type": "code",
   "execution_count": null,
   "id": "03fc5b9a",
   "metadata": {},
   "outputs": [],
   "source": []
  },
  {
   "cell_type": "markdown",
   "id": "a8d76f80",
   "metadata": {},
   "source": [
    "#### Task 11. Visualize correlation matrix for `x_train`  (1 point)\n",
    "* Build annotated heatmap (use `annot` param to add values to plot, select diverging `cmap` and center it at 0)\n",
    "* You should see that `foo` feature is correlated with ones it was created from,<br>\n",
    "  but each of these correlation coefficients **is not so close to 1**"
   ]
  },
  {
   "cell_type": "code",
   "execution_count": null,
   "id": "0357d435",
   "metadata": {
    "ExecuteTime": {
     "end_time": "2022-02-05T15:50:43.376553Z",
     "start_time": "2022-02-05T15:50:43.364300Z"
    }
   },
   "outputs": [],
   "source": [
    "# your code here"
   ]
  },
  {
   "cell_type": "code",
   "execution_count": null,
   "id": "d4312104",
   "metadata": {},
   "outputs": [],
   "source": []
  },
  {
   "cell_type": "code",
   "execution_count": null,
   "id": "cf7efe14",
   "metadata": {},
   "outputs": [],
   "source": []
  },
  {
   "cell_type": "markdown",
   "id": "dd16a084",
   "metadata": {},
   "source": [
    "### Regularization\n",
    "\n",
    "* The concept of regularization (that was mentioned above) is simple.\n",
    "\n",
    "  We modify Loss function (RSS in case of Linear regression) in such a way<br>\n",
    "  to penalize for large values of model parameters.\n",
    "  \n",
    "  \n",
    "* $L_2$ regularization, also named as \n",
    "  [Tikhonov regularization](https://en.wikipedia.org/wiki/Tikhonov_regularization), \n",
    "  adds $L_2$ term to loss function:\n",
    "\n",
    "  $L(w,x,y) = RSS(w,y) + \\alpha L_2(w) = \\|y - \\hat{y}\\|_2^2 + \\alpha \\|w\\|_2^2 \n",
    "  = \\|y - X \\cdot w \\|_2^2 + \\alpha \\|w\\|_2^2$\n",
    "  \n",
    "  parameter $ \\alpha \\ge 0 $ controls the ammount of regularization applied\n",
    "  \n",
    "\n",
    "* Linear regression implemented with $L_2$ regularization is named a **Ridge regression**.\n",
    "\n",
    "\n",
    "* Ridge regression is implemented in `Ridge` class in `sklearn` library\n",
    "\n",
    "---\n",
    "\n",
    "Let's see how applying regularization changes our model."
   ]
  },
  {
   "cell_type": "code",
   "execution_count": null,
   "id": "6b822aca",
   "metadata": {
    "ExecuteTime": {
     "end_time": "2022-02-05T15:50:43.937621Z",
     "start_time": "2022-02-05T15:50:43.926206Z"
    }
   },
   "outputs": [],
   "source": [
    "from sklearn.linear_model import Ridge"
   ]
  },
  {
   "cell_type": "markdown",
   "id": "54959d90",
   "metadata": {},
   "source": [
    "* at first fit `Ridge` without any regularization to ensure we get similar results \n",
    "  to using `LinearRegression`"
   ]
  },
  {
   "cell_type": "code",
   "execution_count": null,
   "id": "80b5faea",
   "metadata": {
    "ExecuteTime": {
     "end_time": "2022-02-05T15:50:44.001329Z",
     "start_time": "2022-02-05T15:50:43.942367Z"
    }
   },
   "outputs": [],
   "source": [
    "# `solver` parameters determines the algorithm used to solve regression task.\n",
    "# we fix it to be `svd` to achieve desired results.\n",
    "model_r = Ridge(alpha=0, fit_intercept=True, solver='svd')\n",
    "fit_and_evaluate(model_r, x_train, y_train, x_test, y_test)"
   ]
  },
  {
   "cell_type": "code",
   "execution_count": null,
   "id": "752bc47e",
   "metadata": {
    "ExecuteTime": {
     "end_time": "2022-02-05T15:50:44.016893Z",
     "start_time": "2022-02-05T15:50:44.004264Z"
    }
   },
   "outputs": [],
   "source": [
    "print(f'intercept: {model_r.intercept_}')\n",
    "print(f'coef: {model_r.coef_.tolist()}')\n",
    "print(f'l2 norm: {l2_norm(model_r.coef_)}')"
   ]
  },
  {
   "cell_type": "markdown",
   "id": "a78c49ee",
   "metadata": {},
   "source": [
    "* some model parameters should be large, as well as the $L_2$-norm value\n",
    "* now, let's add some regularization"
   ]
  },
  {
   "cell_type": "code",
   "execution_count": null,
   "id": "4cb06351",
   "metadata": {
    "ExecuteTime": {
     "end_time": "2022-02-05T15:50:44.063416Z",
     "start_time": "2022-02-05T15:50:44.020333Z"
    }
   },
   "outputs": [],
   "source": [
    "model_r = Ridge(alpha=0.01, fit_intercept=True, solver='svd')\n",
    "fit_and_evaluate(model_r, x_train, y_train, x_test, y_test)"
   ]
  },
  {
   "cell_type": "code",
   "execution_count": null,
   "id": "2fa549ec",
   "metadata": {
    "ExecuteTime": {
     "end_time": "2022-02-05T15:50:44.078980Z",
     "start_time": "2022-02-05T15:50:44.066065Z"
    }
   },
   "outputs": [],
   "source": [
    "print(f'intercept: {model_r.intercept_}')\n",
    "print(f'coef: {model_r.coef_.tolist()}')\n",
    "print(f'l2 norm: {l2_norm(model_r.coef_)}')"
   ]
  },
  {
   "cell_type": "markdown",
   "id": "246453e3",
   "metadata": {},
   "source": [
    "* notice how parameter values changed\n",
    "* also notice how $L_2$-norm values decreased"
   ]
  },
  {
   "cell_type": "code",
   "execution_count": null,
   "id": "1df0b007",
   "metadata": {},
   "outputs": [],
   "source": []
  },
  {
   "cell_type": "markdown",
   "id": "3ce0180e",
   "metadata": {},
   "source": [
    "## Task 12. Putting all together. (up to 10 points)\n",
    "\n",
    "In the final task we'll try to recap all that we have learnt so far.\n",
    "\n",
    "Your task is to build a Linear regression model with multiple variables to predict `agility` variable.<br>\n",
    "Only `LinearRegression` class is allowed to be used for modeling.<br>\n",
    "\n",
    "Steps you need to follow:\n",
    "\n",
    "* Make a new train/test split with new proportion: 70% on train and 30% on test data **(1 point)**\n",
    "\n",
    "\n",
    "* Fit a model **(up to 6 points)**\n",
    "    \n",
    "    * Choose >= 10 features from training set as initial set of features\n",
    "      Explain your choice. **(1 point)**\n",
    "      \n",
    "    * Visualize correlation matrix for selected features **(1 point)**\n",
    "    \n",
    "    * Analyze if collinear/multicollinear features are present in your feature set.<br>\n",
    "      Process collinear/multicollinear features if they are present:<br>\n",
    "      remove redundant features, combine features into new ones, etc **(up to 3 points)**\n",
    "     \n",
    "    * Fit the model and calculate metrics on train and test sets<br>\n",
    "      **(1 point max. -0.25 points per each metric that was not implemented in the beginning of the assignment)**\n",
    "    \n",
    "\n",
    "* Analyze fitted model performance **(up to 2 points)**:\n",
    "    * Print fitted model parameters and calculate their $L_2$-norm value **(1 point)**\n",
    "    * Make conclusion whether your model overfitted or not. Provide your arguments. **(1 point)**\n",
    "\n",
    "\n",
    "* Write a short report about the work done **(1 point)**<br>\n",
    "  Can you find a logical explanation for high correlation of some of your features?<br>\n",
    "  Are you satisfied with the quality of predictions?<br>\n",
    "  How could you pottentially improve the model?<br>\n",
    "  Any other thoughts.\n",
    "\n",
    "\n",
    "**Penalties:**\n",
    "- **0 points are assigned for the whole task** if used a model different from:\n",
    "    - `sklearn.linear_model.LinearRegression`\n",
    "    - or `LRMatrixForm`"
   ]
  },
  {
   "cell_type": "code",
   "execution_count": null,
   "id": "e2ad74a4",
   "metadata": {},
   "outputs": [],
   "source": []
  },
  {
   "cell_type": "code",
   "execution_count": null,
   "id": "52ec77c7",
   "metadata": {},
   "outputs": [],
   "source": []
  }
 ],
 "metadata": {
  "kernelspec": {
   "display_name": "Python 3 (ipykernel)",
   "language": "python",
   "name": "python3"
  },
  "language_info": {
   "codemirror_mode": {
    "name": "ipython",
    "version": 3
   },
   "file_extension": ".py",
   "mimetype": "text/x-python",
   "name": "python",
   "nbconvert_exporter": "python",
   "pygments_lexer": "ipython3",
   "version": "3.8.12"
  },
  "toc": {
   "base_numbering": 1,
   "nav_menu": {},
   "number_sections": true,
   "sideBar": true,
   "skip_h1_title": false,
   "title_cell": "Table of Contents",
   "title_sidebar": "Contents",
   "toc_cell": false,
   "toc_position": {
    "height": "calc(100% - 180px)",
    "left": "10px",
    "top": "150px",
    "width": "248px"
   },
   "toc_section_display": true,
   "toc_window_display": true
  }
 },
 "nbformat": 4,
 "nbformat_minor": 5
}
